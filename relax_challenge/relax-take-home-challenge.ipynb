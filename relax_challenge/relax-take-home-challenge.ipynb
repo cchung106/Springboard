{
 "cells": [
  {
   "cell_type": "markdown",
   "id": "667b2c2f",
   "metadata": {},
   "source": [
    "# Relax Inc. Take Home Challenge"
   ]
  },
  {
   "cell_type": "markdown",
   "id": "b71101d7",
   "metadata": {},
   "source": [
    "The data is available as two attached CSV files:\n",
    "- takehome_user_engagement.csv\n",
    "- takehome_users.csv\n",
    "\n",
    "The data has the following two tables:\n",
    "1. A user table (\"takehome_users\") with data on 12,000 users who signed up for the product in the last two years. This table includes:\n",
    "    - name: the user's name\n",
    "    - object_id: the user's id\n",
    "    - email: email address\n",
    "    - creation_source: how their account was created. This takes on one of 5 values:\n",
    "        - PERSONAL_PROJECTS: invited to join another user's personal workspace\n",
    "        - GUEST_INVITE: invited to an organization as a guest (limited permissions)\n",
    "        - ORG_INVITE: invited to an organization (as a full member)\n",
    "        - SIGNUP: signed up via the website\n",
    "        - SIGNUP_GOOGLE_AUTH: signed up using Google Authentication (using a Google email account for their login id)\n",
    "    - creation_time: when they created their account\n",
    "    - last_session_creation_time: unix timestamp of last login\n",
    "    - opted_in_to_mailing_list: whether they have opted into receiving marketing emails\n",
    "    - enabled_for_marketing_drip: whether they are on the regular marketing email drip\n",
    "    - org_id: the organization (group of users) they belong to\n",
    "    - invited_by_user_id: which user invited them to join (if applicable).\n",
    "    \n",
    "    \n",
    "2. A usage summary table (\"takehome_user_engagement\") that has a row for each day that a user logged into the product.\n",
    "\n",
    "\n",
    "Defining an \"adopted user\" as a user who has logged into the product on three separate days in at least one seven-day period, identify which factors predict future user adoption.\n"
   ]
  },
  {
   "cell_type": "markdown",
   "id": "f6232035",
   "metadata": {},
   "source": [
    "## 1. Import packages and load files"
   ]
  },
  {
   "cell_type": "code",
   "execution_count": 1,
   "id": "43b87e42",
   "metadata": {},
   "outputs": [],
   "source": [
    "import numpy as np\n",
    "import pandas as pd\n",
    "import matplotlib.pyplot as plt\n",
    "import seaborn as sns\n",
    "\n",
    "from sklearn.model_selection import train_test_split\n",
    "from sklearn.preprocessing import StandardScaler\n",
    "from sklearn.linear_model import LogisticRegression\n",
    "from sklearn.ensemble import RandomForestClassifier\n",
    "from xgboost import XGBClassifier\n",
    "from sklearn.metrics import classification_report, confusion_matrix, roc_curve, roc_auc_score"
   ]
  },
  {
   "cell_type": "code",
   "execution_count": 2,
   "id": "648010d4",
   "metadata": {},
   "outputs": [],
   "source": [
    "import warnings\n",
    "warnings.filterwarnings('ignore')"
   ]
  },
  {
   "cell_type": "code",
   "execution_count": 3,
   "id": "8db8d0ad",
   "metadata": {},
   "outputs": [],
   "source": [
    "# import user data\n",
    "users = pd.read_csv('takehome_users.csv', encoding='latin-1')\n",
    "\n",
    "# import engagement data\n",
    "engage = pd.read_csv('takehome_user_engagement.csv')"
   ]
  },
  {
   "cell_type": "code",
   "execution_count": 4,
   "id": "adfc4647",
   "metadata": {
    "scrolled": false
   },
   "outputs": [
    {
     "data": {
      "text/html": [
       "<div>\n",
       "<style scoped>\n",
       "    .dataframe tbody tr th:only-of-type {\n",
       "        vertical-align: middle;\n",
       "    }\n",
       "\n",
       "    .dataframe tbody tr th {\n",
       "        vertical-align: top;\n",
       "    }\n",
       "\n",
       "    .dataframe thead th {\n",
       "        text-align: right;\n",
       "    }\n",
       "</style>\n",
       "<table border=\"1\" class=\"dataframe\">\n",
       "  <thead>\n",
       "    <tr style=\"text-align: right;\">\n",
       "      <th></th>\n",
       "      <th>object_id</th>\n",
       "      <th>creation_time</th>\n",
       "      <th>name</th>\n",
       "      <th>email</th>\n",
       "      <th>creation_source</th>\n",
       "      <th>last_session_creation_time</th>\n",
       "      <th>opted_in_to_mailing_list</th>\n",
       "      <th>enabled_for_marketing_drip</th>\n",
       "      <th>org_id</th>\n",
       "      <th>invited_by_user_id</th>\n",
       "    </tr>\n",
       "  </thead>\n",
       "  <tbody>\n",
       "    <tr>\n",
       "      <th>0</th>\n",
       "      <td>1</td>\n",
       "      <td>2014-04-22 03:53:30</td>\n",
       "      <td>Clausen August</td>\n",
       "      <td>AugustCClausen@yahoo.com</td>\n",
       "      <td>GUEST_INVITE</td>\n",
       "      <td>1.398139e+09</td>\n",
       "      <td>1</td>\n",
       "      <td>0</td>\n",
       "      <td>11</td>\n",
       "      <td>10803.0</td>\n",
       "    </tr>\n",
       "    <tr>\n",
       "      <th>1</th>\n",
       "      <td>2</td>\n",
       "      <td>2013-11-15 03:45:04</td>\n",
       "      <td>Poole Matthew</td>\n",
       "      <td>MatthewPoole@gustr.com</td>\n",
       "      <td>ORG_INVITE</td>\n",
       "      <td>1.396238e+09</td>\n",
       "      <td>0</td>\n",
       "      <td>0</td>\n",
       "      <td>1</td>\n",
       "      <td>316.0</td>\n",
       "    </tr>\n",
       "    <tr>\n",
       "      <th>2</th>\n",
       "      <td>3</td>\n",
       "      <td>2013-03-19 23:14:52</td>\n",
       "      <td>Bottrill Mitchell</td>\n",
       "      <td>MitchellBottrill@gustr.com</td>\n",
       "      <td>ORG_INVITE</td>\n",
       "      <td>1.363735e+09</td>\n",
       "      <td>0</td>\n",
       "      <td>0</td>\n",
       "      <td>94</td>\n",
       "      <td>1525.0</td>\n",
       "    </tr>\n",
       "    <tr>\n",
       "      <th>3</th>\n",
       "      <td>4</td>\n",
       "      <td>2013-05-21 08:09:28</td>\n",
       "      <td>Clausen Nicklas</td>\n",
       "      <td>NicklasSClausen@yahoo.com</td>\n",
       "      <td>GUEST_INVITE</td>\n",
       "      <td>1.369210e+09</td>\n",
       "      <td>0</td>\n",
       "      <td>0</td>\n",
       "      <td>1</td>\n",
       "      <td>5151.0</td>\n",
       "    </tr>\n",
       "    <tr>\n",
       "      <th>4</th>\n",
       "      <td>5</td>\n",
       "      <td>2013-01-17 10:14:20</td>\n",
       "      <td>Raw Grace</td>\n",
       "      <td>GraceRaw@yahoo.com</td>\n",
       "      <td>GUEST_INVITE</td>\n",
       "      <td>1.358850e+09</td>\n",
       "      <td>0</td>\n",
       "      <td>0</td>\n",
       "      <td>193</td>\n",
       "      <td>5240.0</td>\n",
       "    </tr>\n",
       "  </tbody>\n",
       "</table>\n",
       "</div>"
      ],
      "text/plain": [
       "   object_id        creation_time               name  \\\n",
       "0          1  2014-04-22 03:53:30     Clausen August   \n",
       "1          2  2013-11-15 03:45:04      Poole Matthew   \n",
       "2          3  2013-03-19 23:14:52  Bottrill Mitchell   \n",
       "3          4  2013-05-21 08:09:28    Clausen Nicklas   \n",
       "4          5  2013-01-17 10:14:20          Raw Grace   \n",
       "\n",
       "                        email creation_source  last_session_creation_time  \\\n",
       "0    AugustCClausen@yahoo.com    GUEST_INVITE                1.398139e+09   \n",
       "1      MatthewPoole@gustr.com      ORG_INVITE                1.396238e+09   \n",
       "2  MitchellBottrill@gustr.com      ORG_INVITE                1.363735e+09   \n",
       "3   NicklasSClausen@yahoo.com    GUEST_INVITE                1.369210e+09   \n",
       "4          GraceRaw@yahoo.com    GUEST_INVITE                1.358850e+09   \n",
       "\n",
       "   opted_in_to_mailing_list  enabled_for_marketing_drip  org_id  \\\n",
       "0                         1                           0      11   \n",
       "1                         0                           0       1   \n",
       "2                         0                           0      94   \n",
       "3                         0                           0       1   \n",
       "4                         0                           0     193   \n",
       "\n",
       "   invited_by_user_id  \n",
       "0             10803.0  \n",
       "1               316.0  \n",
       "2              1525.0  \n",
       "3              5151.0  \n",
       "4              5240.0  "
      ]
     },
     "execution_count": 4,
     "metadata": {},
     "output_type": "execute_result"
    }
   ],
   "source": [
    "# preview first five rows of user\n",
    "users.head()"
   ]
  },
  {
   "cell_type": "code",
   "execution_count": 5,
   "id": "38173fec",
   "metadata": {},
   "outputs": [
    {
     "name": "stdout",
     "output_type": "stream",
     "text": [
      "<class 'pandas.core.frame.DataFrame'>\n",
      "RangeIndex: 12000 entries, 0 to 11999\n",
      "Data columns (total 10 columns):\n",
      " #   Column                      Non-Null Count  Dtype  \n",
      "---  ------                      --------------  -----  \n",
      " 0   object_id                   12000 non-null  int64  \n",
      " 1   creation_time               12000 non-null  object \n",
      " 2   name                        12000 non-null  object \n",
      " 3   email                       12000 non-null  object \n",
      " 4   creation_source             12000 non-null  object \n",
      " 5   last_session_creation_time  8823 non-null   float64\n",
      " 6   opted_in_to_mailing_list    12000 non-null  int64  \n",
      " 7   enabled_for_marketing_drip  12000 non-null  int64  \n",
      " 8   org_id                      12000 non-null  int64  \n",
      " 9   invited_by_user_id          6417 non-null   float64\n",
      "dtypes: float64(2), int64(4), object(4)\n",
      "memory usage: 937.6+ KB\n"
     ]
    }
   ],
   "source": [
    "users.info()"
   ]
  },
  {
   "cell_type": "code",
   "execution_count": 6,
   "id": "ac3bfc43",
   "metadata": {},
   "outputs": [
    {
     "data": {
      "text/plain": [
       "(12000, 10)"
      ]
     },
     "execution_count": 6,
     "metadata": {},
     "output_type": "execute_result"
    }
   ],
   "source": [
    "users.shape"
   ]
  },
  {
   "cell_type": "code",
   "execution_count": 7,
   "id": "cce88cd8",
   "metadata": {},
   "outputs": [],
   "source": [
    "# rename object_id to user_id for consistency\n",
    "users.rename(columns={'object_id':'user_id'}, inplace=True)"
   ]
  },
  {
   "cell_type": "code",
   "execution_count": 8,
   "id": "d5c0dd7e",
   "metadata": {},
   "outputs": [],
   "source": [
    "# convert creation_time to datetime\n",
    "users['creation_time'] = pd.to_datetime(users['creation_time'])"
   ]
  },
  {
   "cell_type": "code",
   "execution_count": 9,
   "id": "bed8355f",
   "metadata": {},
   "outputs": [
    {
     "data": {
      "text/html": [
       "<div>\n",
       "<style scoped>\n",
       "    .dataframe tbody tr th:only-of-type {\n",
       "        vertical-align: middle;\n",
       "    }\n",
       "\n",
       "    .dataframe tbody tr th {\n",
       "        vertical-align: top;\n",
       "    }\n",
       "\n",
       "    .dataframe thead th {\n",
       "        text-align: right;\n",
       "    }\n",
       "</style>\n",
       "<table border=\"1\" class=\"dataframe\">\n",
       "  <thead>\n",
       "    <tr style=\"text-align: right;\">\n",
       "      <th></th>\n",
       "      <th>time_stamp</th>\n",
       "      <th>user_id</th>\n",
       "      <th>visited</th>\n",
       "    </tr>\n",
       "  </thead>\n",
       "  <tbody>\n",
       "    <tr>\n",
       "      <th>0</th>\n",
       "      <td>2014-04-22 03:53:30</td>\n",
       "      <td>1</td>\n",
       "      <td>1</td>\n",
       "    </tr>\n",
       "    <tr>\n",
       "      <th>1</th>\n",
       "      <td>2013-11-15 03:45:04</td>\n",
       "      <td>2</td>\n",
       "      <td>1</td>\n",
       "    </tr>\n",
       "    <tr>\n",
       "      <th>2</th>\n",
       "      <td>2013-11-29 03:45:04</td>\n",
       "      <td>2</td>\n",
       "      <td>1</td>\n",
       "    </tr>\n",
       "    <tr>\n",
       "      <th>3</th>\n",
       "      <td>2013-12-09 03:45:04</td>\n",
       "      <td>2</td>\n",
       "      <td>1</td>\n",
       "    </tr>\n",
       "    <tr>\n",
       "      <th>4</th>\n",
       "      <td>2013-12-25 03:45:04</td>\n",
       "      <td>2</td>\n",
       "      <td>1</td>\n",
       "    </tr>\n",
       "  </tbody>\n",
       "</table>\n",
       "</div>"
      ],
      "text/plain": [
       "            time_stamp  user_id  visited\n",
       "0  2014-04-22 03:53:30        1        1\n",
       "1  2013-11-15 03:45:04        2        1\n",
       "2  2013-11-29 03:45:04        2        1\n",
       "3  2013-12-09 03:45:04        2        1\n",
       "4  2013-12-25 03:45:04        2        1"
      ]
     },
     "execution_count": 9,
     "metadata": {},
     "output_type": "execute_result"
    }
   ],
   "source": [
    "# preview first five rows of engage\n",
    "engage.head()"
   ]
  },
  {
   "cell_type": "code",
   "execution_count": 10,
   "id": "86aebb4b",
   "metadata": {},
   "outputs": [
    {
     "name": "stdout",
     "output_type": "stream",
     "text": [
      "<class 'pandas.core.frame.DataFrame'>\n",
      "RangeIndex: 207917 entries, 0 to 207916\n",
      "Data columns (total 3 columns):\n",
      " #   Column      Non-Null Count   Dtype \n",
      "---  ------      --------------   ----- \n",
      " 0   time_stamp  207917 non-null  object\n",
      " 1   user_id     207917 non-null  int64 \n",
      " 2   visited     207917 non-null  int64 \n",
      "dtypes: int64(2), object(1)\n",
      "memory usage: 4.8+ MB\n"
     ]
    }
   ],
   "source": [
    "engage.info()"
   ]
  },
  {
   "cell_type": "code",
   "execution_count": 11,
   "id": "7d8d8b4a",
   "metadata": {},
   "outputs": [
    {
     "data": {
      "text/plain": [
       "(207917, 3)"
      ]
     },
     "execution_count": 11,
     "metadata": {},
     "output_type": "execute_result"
    }
   ],
   "source": [
    "engage.shape"
   ]
  },
  {
   "cell_type": "code",
   "execution_count": 12,
   "id": "b7529e7c",
   "metadata": {},
   "outputs": [
    {
     "data": {
      "text/html": [
       "<div>\n",
       "<style scoped>\n",
       "    .dataframe tbody tr th:only-of-type {\n",
       "        vertical-align: middle;\n",
       "    }\n",
       "\n",
       "    .dataframe tbody tr th {\n",
       "        vertical-align: top;\n",
       "    }\n",
       "\n",
       "    .dataframe thead th {\n",
       "        text-align: right;\n",
       "    }\n",
       "</style>\n",
       "<table border=\"1\" class=\"dataframe\">\n",
       "  <thead>\n",
       "    <tr style=\"text-align: right;\">\n",
       "      <th></th>\n",
       "      <th>user_id</th>\n",
       "      <th>visited</th>\n",
       "    </tr>\n",
       "    <tr>\n",
       "      <th>time_stamp</th>\n",
       "      <th></th>\n",
       "      <th></th>\n",
       "    </tr>\n",
       "  </thead>\n",
       "  <tbody>\n",
       "    <tr>\n",
       "      <th>2014-04-22 03:53:30</th>\n",
       "      <td>1</td>\n",
       "      <td>1</td>\n",
       "    </tr>\n",
       "    <tr>\n",
       "      <th>2013-11-15 03:45:04</th>\n",
       "      <td>2</td>\n",
       "      <td>1</td>\n",
       "    </tr>\n",
       "    <tr>\n",
       "      <th>2013-11-29 03:45:04</th>\n",
       "      <td>2</td>\n",
       "      <td>1</td>\n",
       "    </tr>\n",
       "    <tr>\n",
       "      <th>2013-12-09 03:45:04</th>\n",
       "      <td>2</td>\n",
       "      <td>1</td>\n",
       "    </tr>\n",
       "    <tr>\n",
       "      <th>2013-12-25 03:45:04</th>\n",
       "      <td>2</td>\n",
       "      <td>1</td>\n",
       "    </tr>\n",
       "    <tr>\n",
       "      <th>...</th>\n",
       "      <td>...</td>\n",
       "      <td>...</td>\n",
       "    </tr>\n",
       "    <tr>\n",
       "      <th>2013-09-06 06:14:15</th>\n",
       "      <td>11996</td>\n",
       "      <td>1</td>\n",
       "    </tr>\n",
       "    <tr>\n",
       "      <th>2013-01-15 18:28:37</th>\n",
       "      <td>11997</td>\n",
       "      <td>1</td>\n",
       "    </tr>\n",
       "    <tr>\n",
       "      <th>2014-04-27 12:45:16</th>\n",
       "      <td>11998</td>\n",
       "      <td>1</td>\n",
       "    </tr>\n",
       "    <tr>\n",
       "      <th>2012-06-02 11:55:59</th>\n",
       "      <td>11999</td>\n",
       "      <td>1</td>\n",
       "    </tr>\n",
       "    <tr>\n",
       "      <th>2014-01-26 08:57:12</th>\n",
       "      <td>12000</td>\n",
       "      <td>1</td>\n",
       "    </tr>\n",
       "  </tbody>\n",
       "</table>\n",
       "<p>207917 rows × 2 columns</p>\n",
       "</div>"
      ],
      "text/plain": [
       "                     user_id  visited\n",
       "time_stamp                           \n",
       "2014-04-22 03:53:30        1        1\n",
       "2013-11-15 03:45:04        2        1\n",
       "2013-11-29 03:45:04        2        1\n",
       "2013-12-09 03:45:04        2        1\n",
       "2013-12-25 03:45:04        2        1\n",
       "...                      ...      ...\n",
       "2013-09-06 06:14:15    11996        1\n",
       "2013-01-15 18:28:37    11997        1\n",
       "2014-04-27 12:45:16    11998        1\n",
       "2012-06-02 11:55:59    11999        1\n",
       "2014-01-26 08:57:12    12000        1\n",
       "\n",
       "[207917 rows x 2 columns]"
      ]
     },
     "execution_count": 12,
     "metadata": {},
     "output_type": "execute_result"
    }
   ],
   "source": [
    "# convert time_stamp to datetime\n",
    "engage['time_stamp'] = pd.to_datetime(engage['time_stamp'])\n",
    "\n",
    "# set time_stamp as index\n",
    "engage = engage.set_index('time_stamp', drop= True)\n",
    "engage"
   ]
  },
  {
   "cell_type": "markdown",
   "id": "c3a96634",
   "metadata": {},
   "source": [
    "## 2. Data wrangling"
   ]
  },
  {
   "cell_type": "markdown",
   "id": "a7b01ded",
   "metadata": {},
   "source": [
    "Our first objective will be to create our target variable."
   ]
  },
  {
   "cell_type": "code",
   "execution_count": 13,
   "id": "233634a1",
   "metadata": {},
   "outputs": [
    {
     "data": {
      "text/html": [
       "<div>\n",
       "<style scoped>\n",
       "    .dataframe tbody tr th:only-of-type {\n",
       "        vertical-align: middle;\n",
       "    }\n",
       "\n",
       "    .dataframe tbody tr th {\n",
       "        vertical-align: top;\n",
       "    }\n",
       "\n",
       "    .dataframe thead th {\n",
       "        text-align: right;\n",
       "    }\n",
       "</style>\n",
       "<table border=\"1\" class=\"dataframe\">\n",
       "  <thead>\n",
       "    <tr style=\"text-align: right;\">\n",
       "      <th></th>\n",
       "      <th></th>\n",
       "      <th>visited</th>\n",
       "    </tr>\n",
       "    <tr>\n",
       "      <th>user_id</th>\n",
       "      <th>time_stamp</th>\n",
       "      <th></th>\n",
       "    </tr>\n",
       "  </thead>\n",
       "  <tbody>\n",
       "    <tr>\n",
       "      <th>1</th>\n",
       "      <th>2014-04-22</th>\n",
       "      <td>1</td>\n",
       "    </tr>\n",
       "    <tr>\n",
       "      <th rowspan=\"4\" valign=\"top\">2</th>\n",
       "      <th>2013-11-15</th>\n",
       "      <td>1</td>\n",
       "    </tr>\n",
       "    <tr>\n",
       "      <th>2013-11-16</th>\n",
       "      <td>0</td>\n",
       "    </tr>\n",
       "    <tr>\n",
       "      <th>2013-11-17</th>\n",
       "      <td>0</td>\n",
       "    </tr>\n",
       "    <tr>\n",
       "      <th>2013-11-18</th>\n",
       "      <td>0</td>\n",
       "    </tr>\n",
       "    <tr>\n",
       "      <th>...</th>\n",
       "      <th>...</th>\n",
       "      <td>...</td>\n",
       "    </tr>\n",
       "    <tr>\n",
       "      <th>11996</th>\n",
       "      <th>2013-09-06</th>\n",
       "      <td>1</td>\n",
       "    </tr>\n",
       "    <tr>\n",
       "      <th>11997</th>\n",
       "      <th>2013-01-15</th>\n",
       "      <td>1</td>\n",
       "    </tr>\n",
       "    <tr>\n",
       "      <th>11998</th>\n",
       "      <th>2014-04-27</th>\n",
       "      <td>1</td>\n",
       "    </tr>\n",
       "    <tr>\n",
       "      <th>11999</th>\n",
       "      <th>2012-06-02</th>\n",
       "      <td>1</td>\n",
       "    </tr>\n",
       "    <tr>\n",
       "      <th>12000</th>\n",
       "      <th>2014-01-26</th>\n",
       "      <td>1</td>\n",
       "    </tr>\n",
       "  </tbody>\n",
       "</table>\n",
       "<p>522501 rows × 1 columns</p>\n",
       "</div>"
      ],
      "text/plain": [
       "                    visited\n",
       "user_id time_stamp         \n",
       "1       2014-04-22        1\n",
       "2       2013-11-15        1\n",
       "        2013-11-16        0\n",
       "        2013-11-17        0\n",
       "        2013-11-18        0\n",
       "...                     ...\n",
       "11996   2013-09-06        1\n",
       "11997   2013-01-15        1\n",
       "11998   2014-04-27        1\n",
       "11999   2012-06-02        1\n",
       "12000   2014-01-26        1\n",
       "\n",
       "[522501 rows x 1 columns]"
      ]
     },
     "execution_count": 13,
     "metadata": {},
     "output_type": "execute_result"
    }
   ],
   "source": [
    "# group engagements by user and resample by day\n",
    "engage_grouped = pd.DataFrame(engage.groupby('user_id')['visited'].resample('D').count())\n",
    "engage_grouped"
   ]
  },
  {
   "cell_type": "code",
   "execution_count": 14,
   "id": "7a92cc2f",
   "metadata": {},
   "outputs": [],
   "source": [
    "engage_7 = engage_grouped.groupby('user_id', group_keys=False, as_index=False).rolling(7, min_periods=0).sum()"
   ]
  },
  {
   "cell_type": "code",
   "execution_count": 15,
   "id": "e1d1d5ab",
   "metadata": {},
   "outputs": [
    {
     "data": {
      "text/html": [
       "<div>\n",
       "<style scoped>\n",
       "    .dataframe tbody tr th:only-of-type {\n",
       "        vertical-align: middle;\n",
       "    }\n",
       "\n",
       "    .dataframe tbody tr th {\n",
       "        vertical-align: top;\n",
       "    }\n",
       "\n",
       "    .dataframe thead th {\n",
       "        text-align: right;\n",
       "    }\n",
       "</style>\n",
       "<table border=\"1\" class=\"dataframe\">\n",
       "  <thead>\n",
       "    <tr style=\"text-align: right;\">\n",
       "      <th></th>\n",
       "      <th></th>\n",
       "      <th>user_id</th>\n",
       "      <th>visited</th>\n",
       "    </tr>\n",
       "    <tr>\n",
       "      <th>user_id</th>\n",
       "      <th>time_stamp</th>\n",
       "      <th></th>\n",
       "      <th></th>\n",
       "    </tr>\n",
       "  </thead>\n",
       "  <tbody>\n",
       "    <tr>\n",
       "      <th>1</th>\n",
       "      <th>2014-04-22</th>\n",
       "      <td>1</td>\n",
       "      <td>1.0</td>\n",
       "    </tr>\n",
       "    <tr>\n",
       "      <th rowspan=\"4\" valign=\"top\">2</th>\n",
       "      <th>2013-11-15</th>\n",
       "      <td>2</td>\n",
       "      <td>1.0</td>\n",
       "    </tr>\n",
       "    <tr>\n",
       "      <th>2013-11-16</th>\n",
       "      <td>2</td>\n",
       "      <td>1.0</td>\n",
       "    </tr>\n",
       "    <tr>\n",
       "      <th>2013-11-17</th>\n",
       "      <td>2</td>\n",
       "      <td>1.0</td>\n",
       "    </tr>\n",
       "    <tr>\n",
       "      <th>2013-11-18</th>\n",
       "      <td>2</td>\n",
       "      <td>1.0</td>\n",
       "    </tr>\n",
       "    <tr>\n",
       "      <th>...</th>\n",
       "      <th>...</th>\n",
       "      <td>...</td>\n",
       "      <td>...</td>\n",
       "    </tr>\n",
       "    <tr>\n",
       "      <th>11996</th>\n",
       "      <th>2013-09-06</th>\n",
       "      <td>11996</td>\n",
       "      <td>1.0</td>\n",
       "    </tr>\n",
       "    <tr>\n",
       "      <th>11997</th>\n",
       "      <th>2013-01-15</th>\n",
       "      <td>11997</td>\n",
       "      <td>1.0</td>\n",
       "    </tr>\n",
       "    <tr>\n",
       "      <th>11998</th>\n",
       "      <th>2014-04-27</th>\n",
       "      <td>11998</td>\n",
       "      <td>1.0</td>\n",
       "    </tr>\n",
       "    <tr>\n",
       "      <th>11999</th>\n",
       "      <th>2012-06-02</th>\n",
       "      <td>11999</td>\n",
       "      <td>1.0</td>\n",
       "    </tr>\n",
       "    <tr>\n",
       "      <th>12000</th>\n",
       "      <th>2014-01-26</th>\n",
       "      <td>12000</td>\n",
       "      <td>1.0</td>\n",
       "    </tr>\n",
       "  </tbody>\n",
       "</table>\n",
       "<p>522501 rows × 2 columns</p>\n",
       "</div>"
      ],
      "text/plain": [
       "                    user_id  visited\n",
       "user_id time_stamp                  \n",
       "1       2014-04-22        1      1.0\n",
       "2       2013-11-15        2      1.0\n",
       "        2013-11-16        2      1.0\n",
       "        2013-11-17        2      1.0\n",
       "        2013-11-18        2      1.0\n",
       "...                     ...      ...\n",
       "11996   2013-09-06    11996      1.0\n",
       "11997   2013-01-15    11997      1.0\n",
       "11998   2014-04-27    11998      1.0\n",
       "11999   2012-06-02    11999      1.0\n",
       "12000   2014-01-26    12000      1.0\n",
       "\n",
       "[522501 rows x 2 columns]"
      ]
     },
     "execution_count": 15,
     "metadata": {},
     "output_type": "execute_result"
    }
   ],
   "source": [
    "engage_7"
   ]
  },
  {
   "cell_type": "code",
   "execution_count": 16,
   "id": "c683b8b2",
   "metadata": {},
   "outputs": [],
   "source": [
    "#drop redundant 'user_id' column\n",
    "engage_7.drop('user_id', axis=1, inplace=True)"
   ]
  },
  {
   "cell_type": "code",
   "execution_count": 17,
   "id": "7d59e033",
   "metadata": {},
   "outputs": [],
   "source": [
    "# Compute max number of visits for each user for seven-rolling-day periods.\n",
    "engage_max = engage_7.groupby('user_id')[['visited']].max()"
   ]
  },
  {
   "cell_type": "code",
   "execution_count": 18,
   "id": "cf538c42",
   "metadata": {},
   "outputs": [
    {
     "data": {
      "text/html": [
       "<div>\n",
       "<style scoped>\n",
       "    .dataframe tbody tr th:only-of-type {\n",
       "        vertical-align: middle;\n",
       "    }\n",
       "\n",
       "    .dataframe tbody tr th {\n",
       "        vertical-align: top;\n",
       "    }\n",
       "\n",
       "    .dataframe thead th {\n",
       "        text-align: right;\n",
       "    }\n",
       "</style>\n",
       "<table border=\"1\" class=\"dataframe\">\n",
       "  <thead>\n",
       "    <tr style=\"text-align: right;\">\n",
       "      <th></th>\n",
       "      <th>visited</th>\n",
       "    </tr>\n",
       "    <tr>\n",
       "      <th>user_id</th>\n",
       "      <th></th>\n",
       "    </tr>\n",
       "  </thead>\n",
       "  <tbody>\n",
       "    <tr>\n",
       "      <th>1</th>\n",
       "      <td>1.0</td>\n",
       "    </tr>\n",
       "    <tr>\n",
       "      <th>2</th>\n",
       "      <td>3.0</td>\n",
       "    </tr>\n",
       "    <tr>\n",
       "      <th>3</th>\n",
       "      <td>1.0</td>\n",
       "    </tr>\n",
       "    <tr>\n",
       "      <th>4</th>\n",
       "      <td>1.0</td>\n",
       "    </tr>\n",
       "    <tr>\n",
       "      <th>5</th>\n",
       "      <td>1.0</td>\n",
       "    </tr>\n",
       "    <tr>\n",
       "      <th>...</th>\n",
       "      <td>...</td>\n",
       "    </tr>\n",
       "    <tr>\n",
       "      <th>11996</th>\n",
       "      <td>1.0</td>\n",
       "    </tr>\n",
       "    <tr>\n",
       "      <th>11997</th>\n",
       "      <td>1.0</td>\n",
       "    </tr>\n",
       "    <tr>\n",
       "      <th>11998</th>\n",
       "      <td>1.0</td>\n",
       "    </tr>\n",
       "    <tr>\n",
       "      <th>11999</th>\n",
       "      <td>1.0</td>\n",
       "    </tr>\n",
       "    <tr>\n",
       "      <th>12000</th>\n",
       "      <td>1.0</td>\n",
       "    </tr>\n",
       "  </tbody>\n",
       "</table>\n",
       "<p>8823 rows × 1 columns</p>\n",
       "</div>"
      ],
      "text/plain": [
       "         visited\n",
       "user_id         \n",
       "1            1.0\n",
       "2            3.0\n",
       "3            1.0\n",
       "4            1.0\n",
       "5            1.0\n",
       "...          ...\n",
       "11996        1.0\n",
       "11997        1.0\n",
       "11998        1.0\n",
       "11999        1.0\n",
       "12000        1.0\n",
       "\n",
       "[8823 rows x 1 columns]"
      ]
     },
     "execution_count": 18,
     "metadata": {},
     "output_type": "execute_result"
    }
   ],
   "source": [
    "engage_max"
   ]
  },
  {
   "cell_type": "code",
   "execution_count": 19,
   "id": "be1f75e5",
   "metadata": {},
   "outputs": [
    {
     "data": {
      "text/html": [
       "<div>\n",
       "<style scoped>\n",
       "    .dataframe tbody tr th:only-of-type {\n",
       "        vertical-align: middle;\n",
       "    }\n",
       "\n",
       "    .dataframe tbody tr th {\n",
       "        vertical-align: top;\n",
       "    }\n",
       "\n",
       "    .dataframe thead th {\n",
       "        text-align: right;\n",
       "    }\n",
       "</style>\n",
       "<table border=\"1\" class=\"dataframe\">\n",
       "  <thead>\n",
       "    <tr style=\"text-align: right;\">\n",
       "      <th></th>\n",
       "      <th>visited</th>\n",
       "    </tr>\n",
       "    <tr>\n",
       "      <th>user_id</th>\n",
       "      <th></th>\n",
       "    </tr>\n",
       "  </thead>\n",
       "  <tbody>\n",
       "    <tr>\n",
       "      <th>2</th>\n",
       "      <td>3.0</td>\n",
       "    </tr>\n",
       "    <tr>\n",
       "      <th>10</th>\n",
       "      <td>7.0</td>\n",
       "    </tr>\n",
       "    <tr>\n",
       "      <th>20</th>\n",
       "      <td>3.0</td>\n",
       "    </tr>\n",
       "    <tr>\n",
       "      <th>33</th>\n",
       "      <td>3.0</td>\n",
       "    </tr>\n",
       "    <tr>\n",
       "      <th>42</th>\n",
       "      <td>7.0</td>\n",
       "    </tr>\n",
       "    <tr>\n",
       "      <th>...</th>\n",
       "      <td>...</td>\n",
       "    </tr>\n",
       "    <tr>\n",
       "      <th>11965</th>\n",
       "      <td>4.0</td>\n",
       "    </tr>\n",
       "    <tr>\n",
       "      <th>11967</th>\n",
       "      <td>7.0</td>\n",
       "    </tr>\n",
       "    <tr>\n",
       "      <th>11969</th>\n",
       "      <td>7.0</td>\n",
       "    </tr>\n",
       "    <tr>\n",
       "      <th>11975</th>\n",
       "      <td>7.0</td>\n",
       "    </tr>\n",
       "    <tr>\n",
       "      <th>11988</th>\n",
       "      <td>6.0</td>\n",
       "    </tr>\n",
       "  </tbody>\n",
       "</table>\n",
       "<p>1602 rows × 1 columns</p>\n",
       "</div>"
      ],
      "text/plain": [
       "         visited\n",
       "user_id         \n",
       "2            3.0\n",
       "10           7.0\n",
       "20           3.0\n",
       "33           3.0\n",
       "42           7.0\n",
       "...          ...\n",
       "11965        4.0\n",
       "11967        7.0\n",
       "11969        7.0\n",
       "11975        7.0\n",
       "11988        6.0\n",
       "\n",
       "[1602 rows x 1 columns]"
      ]
     },
     "execution_count": 19,
     "metadata": {},
     "output_type": "execute_result"
    }
   ],
   "source": [
    "engage_max[engage_max['visited']>=3]"
   ]
  },
  {
   "cell_type": "code",
   "execution_count": 20,
   "id": "24981aef",
   "metadata": {},
   "outputs": [],
   "source": [
    "# Add target column 'adopted'\n",
    "engage_max.loc[engage_max['visited'] >= 3, 'adopted_user'] = 1\n",
    "engage_max.loc[engage_max['visited'] < 3, 'adopted_user'] = 0\n",
    "\n",
    "# drop visited column\n",
    "engage_max.drop('visited', axis=1, inplace=True)"
   ]
  },
  {
   "cell_type": "code",
   "execution_count": 21,
   "id": "aa167367",
   "metadata": {
    "scrolled": true
   },
   "outputs": [
    {
     "data": {
      "text/html": [
       "<div>\n",
       "<style scoped>\n",
       "    .dataframe tbody tr th:only-of-type {\n",
       "        vertical-align: middle;\n",
       "    }\n",
       "\n",
       "    .dataframe tbody tr th {\n",
       "        vertical-align: top;\n",
       "    }\n",
       "\n",
       "    .dataframe thead th {\n",
       "        text-align: right;\n",
       "    }\n",
       "</style>\n",
       "<table border=\"1\" class=\"dataframe\">\n",
       "  <thead>\n",
       "    <tr style=\"text-align: right;\">\n",
       "      <th></th>\n",
       "      <th>user_id</th>\n",
       "      <th>creation_time</th>\n",
       "      <th>name</th>\n",
       "      <th>email</th>\n",
       "      <th>creation_source</th>\n",
       "      <th>last_session_creation_time</th>\n",
       "      <th>opted_in_to_mailing_list</th>\n",
       "      <th>enabled_for_marketing_drip</th>\n",
       "      <th>org_id</th>\n",
       "      <th>invited_by_user_id</th>\n",
       "      <th>adopted_user</th>\n",
       "    </tr>\n",
       "  </thead>\n",
       "  <tbody>\n",
       "    <tr>\n",
       "      <th>0</th>\n",
       "      <td>1</td>\n",
       "      <td>2014-04-22 03:53:30</td>\n",
       "      <td>Clausen August</td>\n",
       "      <td>AugustCClausen@yahoo.com</td>\n",
       "      <td>GUEST_INVITE</td>\n",
       "      <td>1.398139e+09</td>\n",
       "      <td>1</td>\n",
       "      <td>0</td>\n",
       "      <td>11</td>\n",
       "      <td>10803.0</td>\n",
       "      <td>0.0</td>\n",
       "    </tr>\n",
       "    <tr>\n",
       "      <th>1</th>\n",
       "      <td>2</td>\n",
       "      <td>2013-11-15 03:45:04</td>\n",
       "      <td>Poole Matthew</td>\n",
       "      <td>MatthewPoole@gustr.com</td>\n",
       "      <td>ORG_INVITE</td>\n",
       "      <td>1.396238e+09</td>\n",
       "      <td>0</td>\n",
       "      <td>0</td>\n",
       "      <td>1</td>\n",
       "      <td>316.0</td>\n",
       "      <td>1.0</td>\n",
       "    </tr>\n",
       "    <tr>\n",
       "      <th>2</th>\n",
       "      <td>3</td>\n",
       "      <td>2013-03-19 23:14:52</td>\n",
       "      <td>Bottrill Mitchell</td>\n",
       "      <td>MitchellBottrill@gustr.com</td>\n",
       "      <td>ORG_INVITE</td>\n",
       "      <td>1.363735e+09</td>\n",
       "      <td>0</td>\n",
       "      <td>0</td>\n",
       "      <td>94</td>\n",
       "      <td>1525.0</td>\n",
       "      <td>0.0</td>\n",
       "    </tr>\n",
       "    <tr>\n",
       "      <th>3</th>\n",
       "      <td>4</td>\n",
       "      <td>2013-05-21 08:09:28</td>\n",
       "      <td>Clausen Nicklas</td>\n",
       "      <td>NicklasSClausen@yahoo.com</td>\n",
       "      <td>GUEST_INVITE</td>\n",
       "      <td>1.369210e+09</td>\n",
       "      <td>0</td>\n",
       "      <td>0</td>\n",
       "      <td>1</td>\n",
       "      <td>5151.0</td>\n",
       "      <td>0.0</td>\n",
       "    </tr>\n",
       "    <tr>\n",
       "      <th>4</th>\n",
       "      <td>5</td>\n",
       "      <td>2013-01-17 10:14:20</td>\n",
       "      <td>Raw Grace</td>\n",
       "      <td>GraceRaw@yahoo.com</td>\n",
       "      <td>GUEST_INVITE</td>\n",
       "      <td>1.358850e+09</td>\n",
       "      <td>0</td>\n",
       "      <td>0</td>\n",
       "      <td>193</td>\n",
       "      <td>5240.0</td>\n",
       "      <td>0.0</td>\n",
       "    </tr>\n",
       "    <tr>\n",
       "      <th>...</th>\n",
       "      <td>...</td>\n",
       "      <td>...</td>\n",
       "      <td>...</td>\n",
       "      <td>...</td>\n",
       "      <td>...</td>\n",
       "      <td>...</td>\n",
       "      <td>...</td>\n",
       "      <td>...</td>\n",
       "      <td>...</td>\n",
       "      <td>...</td>\n",
       "      <td>...</td>\n",
       "    </tr>\n",
       "    <tr>\n",
       "      <th>11995</th>\n",
       "      <td>11996</td>\n",
       "      <td>2013-09-06 06:14:15</td>\n",
       "      <td>Meier Sophia</td>\n",
       "      <td>SophiaMeier@gustr.com</td>\n",
       "      <td>ORG_INVITE</td>\n",
       "      <td>1.378448e+09</td>\n",
       "      <td>0</td>\n",
       "      <td>0</td>\n",
       "      <td>89</td>\n",
       "      <td>8263.0</td>\n",
       "      <td>0.0</td>\n",
       "    </tr>\n",
       "    <tr>\n",
       "      <th>11996</th>\n",
       "      <td>11997</td>\n",
       "      <td>2013-01-10 18:28:37</td>\n",
       "      <td>Fisher Amelie</td>\n",
       "      <td>AmelieFisher@gmail.com</td>\n",
       "      <td>SIGNUP_GOOGLE_AUTH</td>\n",
       "      <td>1.358275e+09</td>\n",
       "      <td>0</td>\n",
       "      <td>0</td>\n",
       "      <td>200</td>\n",
       "      <td>NaN</td>\n",
       "      <td>0.0</td>\n",
       "    </tr>\n",
       "    <tr>\n",
       "      <th>11997</th>\n",
       "      <td>11998</td>\n",
       "      <td>2014-04-27 12:45:16</td>\n",
       "      <td>Haynes Jake</td>\n",
       "      <td>JakeHaynes@cuvox.de</td>\n",
       "      <td>GUEST_INVITE</td>\n",
       "      <td>1.398603e+09</td>\n",
       "      <td>1</td>\n",
       "      <td>1</td>\n",
       "      <td>83</td>\n",
       "      <td>8074.0</td>\n",
       "      <td>0.0</td>\n",
       "    </tr>\n",
       "    <tr>\n",
       "      <th>11998</th>\n",
       "      <td>11999</td>\n",
       "      <td>2012-05-31 11:55:59</td>\n",
       "      <td>Faber Annett</td>\n",
       "      <td>mhaerzxp@iuxiw.com</td>\n",
       "      <td>PERSONAL_PROJECTS</td>\n",
       "      <td>1.338638e+09</td>\n",
       "      <td>0</td>\n",
       "      <td>0</td>\n",
       "      <td>6</td>\n",
       "      <td>NaN</td>\n",
       "      <td>0.0</td>\n",
       "    </tr>\n",
       "    <tr>\n",
       "      <th>11999</th>\n",
       "      <td>12000</td>\n",
       "      <td>2014-01-26 08:57:12</td>\n",
       "      <td>Lima Thaís</td>\n",
       "      <td>ThaisMeloLima@hotmail.com</td>\n",
       "      <td>SIGNUP</td>\n",
       "      <td>1.390727e+09</td>\n",
       "      <td>0</td>\n",
       "      <td>1</td>\n",
       "      <td>0</td>\n",
       "      <td>NaN</td>\n",
       "      <td>0.0</td>\n",
       "    </tr>\n",
       "  </tbody>\n",
       "</table>\n",
       "<p>12000 rows × 11 columns</p>\n",
       "</div>"
      ],
      "text/plain": [
       "       user_id       creation_time               name  \\\n",
       "0            1 2014-04-22 03:53:30     Clausen August   \n",
       "1            2 2013-11-15 03:45:04      Poole Matthew   \n",
       "2            3 2013-03-19 23:14:52  Bottrill Mitchell   \n",
       "3            4 2013-05-21 08:09:28    Clausen Nicklas   \n",
       "4            5 2013-01-17 10:14:20          Raw Grace   \n",
       "...        ...                 ...                ...   \n",
       "11995    11996 2013-09-06 06:14:15       Meier Sophia   \n",
       "11996    11997 2013-01-10 18:28:37      Fisher Amelie   \n",
       "11997    11998 2014-04-27 12:45:16        Haynes Jake   \n",
       "11998    11999 2012-05-31 11:55:59       Faber Annett   \n",
       "11999    12000 2014-01-26 08:57:12         Lima Thaís   \n",
       "\n",
       "                            email     creation_source  \\\n",
       "0        AugustCClausen@yahoo.com        GUEST_INVITE   \n",
       "1          MatthewPoole@gustr.com          ORG_INVITE   \n",
       "2      MitchellBottrill@gustr.com          ORG_INVITE   \n",
       "3       NicklasSClausen@yahoo.com        GUEST_INVITE   \n",
       "4              GraceRaw@yahoo.com        GUEST_INVITE   \n",
       "...                           ...                 ...   \n",
       "11995       SophiaMeier@gustr.com          ORG_INVITE   \n",
       "11996      AmelieFisher@gmail.com  SIGNUP_GOOGLE_AUTH   \n",
       "11997         JakeHaynes@cuvox.de        GUEST_INVITE   \n",
       "11998          mhaerzxp@iuxiw.com   PERSONAL_PROJECTS   \n",
       "11999   ThaisMeloLima@hotmail.com              SIGNUP   \n",
       "\n",
       "       last_session_creation_time  opted_in_to_mailing_list  \\\n",
       "0                    1.398139e+09                         1   \n",
       "1                    1.396238e+09                         0   \n",
       "2                    1.363735e+09                         0   \n",
       "3                    1.369210e+09                         0   \n",
       "4                    1.358850e+09                         0   \n",
       "...                           ...                       ...   \n",
       "11995                1.378448e+09                         0   \n",
       "11996                1.358275e+09                         0   \n",
       "11997                1.398603e+09                         1   \n",
       "11998                1.338638e+09                         0   \n",
       "11999                1.390727e+09                         0   \n",
       "\n",
       "       enabled_for_marketing_drip  org_id  invited_by_user_id  adopted_user  \n",
       "0                               0      11             10803.0           0.0  \n",
       "1                               0       1               316.0           1.0  \n",
       "2                               0      94              1525.0           0.0  \n",
       "3                               0       1              5151.0           0.0  \n",
       "4                               0     193              5240.0           0.0  \n",
       "...                           ...     ...                 ...           ...  \n",
       "11995                           0      89              8263.0           0.0  \n",
       "11996                           0     200                 NaN           0.0  \n",
       "11997                           1      83              8074.0           0.0  \n",
       "11998                           0       6                 NaN           0.0  \n",
       "11999                           1       0                 NaN           0.0  \n",
       "\n",
       "[12000 rows x 11 columns]"
      ]
     },
     "execution_count": 21,
     "metadata": {},
     "output_type": "execute_result"
    }
   ],
   "source": [
    "# merge with user dataframe\n",
    "df = users.merge(engage_max, how='left', on='user_id', sort=True)\n",
    "df"
   ]
  },
  {
   "cell_type": "code",
   "execution_count": 22,
   "id": "52fc7208",
   "metadata": {},
   "outputs": [
    {
     "data": {
      "text/plain": [
       "user_id                          0\n",
       "creation_time                    0\n",
       "name                             0\n",
       "email                            0\n",
       "creation_source                  0\n",
       "last_session_creation_time    3177\n",
       "opted_in_to_mailing_list         0\n",
       "enabled_for_marketing_drip       0\n",
       "org_id                           0\n",
       "invited_by_user_id            5583\n",
       "adopted_user                  3177\n",
       "dtype: int64"
      ]
     },
     "execution_count": 22,
     "metadata": {},
     "output_type": "execute_result"
    }
   ],
   "source": [
    "df.isnull().sum()"
   ]
  },
  {
   "cell_type": "markdown",
   "id": "463df3fe",
   "metadata": {},
   "source": [
    "It seems that we have 3177 missing values for 'last_session_creation_time' and 'adopted_user'.  It's likely that these are the same rows, given that 'adopted_user' was formed by searching through users who have logged on at least once.  We'll check just in case."
   ]
  },
  {
   "cell_type": "code",
   "execution_count": 23,
   "id": "4a29849e",
   "metadata": {},
   "outputs": [
    {
     "data": {
      "text/plain": [
       "user_id                          0\n",
       "creation_time                    0\n",
       "name                             0\n",
       "email                            0\n",
       "creation_source                  0\n",
       "last_session_creation_time    3177\n",
       "opted_in_to_mailing_list         0\n",
       "enabled_for_marketing_drip       0\n",
       "org_id                           0\n",
       "invited_by_user_id            1536\n",
       "adopted_user                  3177\n",
       "dtype: int64"
      ]
     },
     "execution_count": 23,
     "metadata": {},
     "output_type": "execute_result"
    }
   ],
   "source": [
    "# filter for rows where adopted_user is null and check null counts.\n",
    "df[df['adopted_user'].isnull()].isnull().sum()"
   ]
  },
  {
   "cell_type": "markdown",
   "id": "f619275a",
   "metadata": {},
   "source": [
    "There seems to be 3177 rows without usage data.  We do not know whether this data is missing, or if it represents a user who has not logged on since signing up.  In a real situation, we would bring this issue back to the client or stakeholders to determine if these missing values have any significance.  In this case, we will drop these rows."
   ]
  },
  {
   "cell_type": "code",
   "execution_count": 24,
   "id": "44e512ee",
   "metadata": {},
   "outputs": [
    {
     "data": {
      "text/plain": [
       "user_id                          0\n",
       "creation_time                    0\n",
       "name                             0\n",
       "email                            0\n",
       "creation_source                  0\n",
       "last_session_creation_time       0\n",
       "opted_in_to_mailing_list         0\n",
       "enabled_for_marketing_drip       0\n",
       "org_id                           0\n",
       "invited_by_user_id            4047\n",
       "adopted_user                     0\n",
       "dtype: int64"
      ]
     },
     "execution_count": 24,
     "metadata": {},
     "output_type": "execute_result"
    }
   ],
   "source": [
    "# filter for rows where adopted_user is not null\n",
    "df = df[df['adopted_user'].notna()]\n",
    "\n",
    "#check null counts again\n",
    "df.isnull().sum()"
   ]
  },
  {
   "cell_type": "markdown",
   "id": "d798647a",
   "metadata": {},
   "source": [
    "Seems like we have 4047 users have not been invited by another user.  We will leave these values as Nan."
   ]
  },
  {
   "cell_type": "markdown",
   "id": "704afef8",
   "metadata": {},
   "source": [
    "## 3. Exploratory data analysis"
   ]
  },
  {
   "cell_type": "markdown",
   "id": "ccfa32cd",
   "metadata": {},
   "source": [
    "We'll start by creating a new feature called 'usage_length', taken by subtracting the last_session_creation_time by the creation_time."
   ]
  },
  {
   "cell_type": "code",
   "execution_count": 25,
   "id": "eeff1f33",
   "metadata": {},
   "outputs": [],
   "source": [
    "# convert unix time to datetime\n",
    "df['last_session_creation_time'] = pd.to_datetime(df['last_session_creation_time'],unit='s')"
   ]
  },
  {
   "cell_type": "code",
   "execution_count": 26,
   "id": "80df9b5c",
   "metadata": {},
   "outputs": [],
   "source": [
    "# find difference between these two timestamps\n",
    "df['usage_length'] = df['last_session_creation_time'] - df['creation_time']\n",
    "\n",
    "#convert to days\n",
    "df['usage_length']=df['usage_length'].dt.days"
   ]
  },
  {
   "cell_type": "markdown",
   "id": "bfde31d6",
   "metadata": {},
   "source": [
    "We'll take a look at how 'usage_length' differs for adopted users vs non-adopted users"
   ]
  },
  {
   "cell_type": "code",
   "execution_count": 27,
   "id": "d690de35",
   "metadata": {},
   "outputs": [
    {
     "data": {
      "image/png": "[encoded data removed]",
      "text/plain": [
       "<Figure size 216x432 with 1 Axes>"
      ]
     },
     "metadata": {
      "needs_background": "light"
     },
     "output_type": "display_data"
    }
   ],
   "source": [
    "plt.figure(figsize=(3, 6))\n",
    "sns.boxplot(x=df['adopted_user'], y = df['usage_length'])\n",
    "plt.show()"
   ]
  },
  {
   "cell_type": "markdown",
   "id": "b389e0c8",
   "metadata": {},
   "source": [
    "There is definitely a significant difference in usage length between adopted users and non-adopted users."
   ]
  },
  {
   "cell_type": "code",
   "execution_count": 28,
   "id": "a4df04dc",
   "metadata": {},
   "outputs": [],
   "source": [
    "# analyze percentages of creation_source for adopted users\n",
    "source_ad = df[df['adopted_user']==1]['creation_source'].value_counts(normalize=True).sort_index()\n",
    "\n",
    "# analyze percentages of creation_source for non-adopted users\n",
    "source_nonad = df[df['adopted_user']==0]['creation_source'].value_counts(normalize=True).sort_index()"
   ]
  },
  {
   "cell_type": "code",
   "execution_count": 29,
   "id": "b2bbbc42",
   "metadata": {},
   "outputs": [
    {
     "data": {
      "image/png": "[encoded data removed]",
      "text/plain": [
       "<Figure size 432x288 with 1 Axes>"
      ]
     },
     "metadata": {
      "needs_background": "light"
     },
     "output_type": "display_data"
    }
   ],
   "source": [
    "# graph bar plot of creation source for adopted and non adopted users\n",
    "X = source_ad.index\n",
    "X_axis = np.arange(len(X))\n",
    "\n",
    "plt.bar(X_axis-0.2, source_ad, width = 0.4, label = 'Adopted users')\n",
    "plt.bar(X_axis+0.2, source_nonad, width = 0.4, label = 'Nonadopted users')\n",
    "plt.xticks(X_axis, X, rotation=90)\n",
    "plt.xlabel('Creation Source')\n",
    "plt.ylabel('Percentage of users')\n",
    "plt.title('Users by Creation Source')\n",
    "plt.legend()\n",
    "plt.show()"
   ]
  },
  {
   "cell_type": "markdown",
   "id": "816bf633",
   "metadata": {},
   "source": [
    "There don't seem to be too many differences here.  The top three creation sources for adopted and non-adopted users have only one difference:\n",
    "\n",
    "<u>Top three creation sources for adopted users:</u>\n",
    "1. ORG_INVITE\n",
    "2. GUEST_INVITE\n",
    "3. SIGNUP\n",
    "\n",
    "<u>Top three creation sources for nonadopted users:</u>\n",
    "1. ORG_INVITE\n",
    "2. SIGNUP\n",
    "3. GUEST_INVITE"
   ]
  },
  {
   "cell_type": "code",
   "execution_count": 30,
   "id": "f3d97707",
   "metadata": {},
   "outputs": [],
   "source": [
    "# analyze percentages of opted_in_to_mailing_list for adopted users\n",
    "mailing_ad = df[df['adopted_user']==1]['opted_in_to_mailing_list'].value_counts(normalize=True).sort_index()\n",
    "\n",
    "# analyze percentages of opted_in_to_mailing_list for non-adopted users\n",
    "mailing_nonad = df[df['adopted_user']==0]['opted_in_to_mailing_list'].value_counts(normalize=True).sort_index()\n"
   ]
  },
  {
   "cell_type": "code",
   "execution_count": 31,
   "id": "09bb26ca",
   "metadata": {},
   "outputs": [
    {
     "data": {
      "image/png": "[encoded data removed]",
      "text/plain": [
       "<Figure size 432x288 with 1 Axes>"
      ]
     },
     "metadata": {
      "needs_background": "light"
     },
     "output_type": "display_data"
    }
   ],
   "source": [
    "# graph bar plot of marketing email opt in for adopted and non adopted users\n",
    "X = mailing_ad.index\n",
    "X_axis = np.arange(len(X))\n",
    "\n",
    "plt.bar(X_axis-0.2, mailing_ad, width = 0.4, label = 'Adopted users')\n",
    "plt.bar(X_axis+0.2, mailing_nonad, width = 0.4, label = 'Nonadopted users')\n",
    "plt.xticks(X_axis, X, rotation=90)\n",
    "plt.xlabel('Opted in to Marketing Emails')\n",
    "plt.ylabel('Percentage of users')\n",
    "plt.title('Users who opted in to marketing emails')\n",
    "plt.legend()\n",
    "plt.show()"
   ]
  },
  {
   "cell_type": "markdown",
   "id": "3c0113f4",
   "metadata": {},
   "source": [
    "There is no discernible difference in 'opted_in_to_mailing_list' between adopted users and nonadopted users. "
   ]
  },
  {
   "cell_type": "code",
   "execution_count": 32,
   "id": "8ea98376",
   "metadata": {},
   "outputs": [],
   "source": [
    "# analyze percentages of enabled_for_marketing_drip for adopted users\n",
    "drip_ad = df[df['adopted_user']==1]['enabled_for_marketing_drip'].value_counts(normalize=True).sort_index()\n",
    "\n",
    "# analyze percentages of enabled_for_marketing_drip for non-adopted users\n",
    "drip_nonad = df[df['adopted_user']==0]['enabled_for_marketing_drip'].value_counts(normalize=True).sort_index()\n",
    "\n"
   ]
  },
  {
   "cell_type": "code",
   "execution_count": 33,
   "id": "887a9dcb",
   "metadata": {},
   "outputs": [
    {
     "data": {
      "image/png": "[encoded data removed]",
      "text/plain": [
       "<Figure size 432x288 with 1 Axes>"
      ]
     },
     "metadata": {
      "needs_background": "light"
     },
     "output_type": "display_data"
    }
   ],
   "source": [
    "# graph bar plot of marketing email drip for adopted and non adopted users\n",
    "X = drip_ad.index\n",
    "X_axis = np.arange(len(X))\n",
    "\n",
    "plt.bar(X_axis-0.2, drip_ad, width = 0.4, label = 'Adopted users')\n",
    "plt.bar(X_axis+0.2, drip_nonad, width = 0.4, label = 'Nonadopted users')\n",
    "plt.xticks(X_axis, X, rotation=90)\n",
    "plt.xlabel('On regular marketing email drip')\n",
    "plt.ylabel('Percentage of users')\n",
    "plt.title('Users on regular marketing email drip')\n",
    "plt.legend()\n",
    "plt.show()"
   ]
  },
  {
   "cell_type": "markdown",
   "id": "b33c4502",
   "metadata": {},
   "source": [
    "There is no discernible difference in 'enabled_for_marketing_drip' between adopted users and nonadopted users. "
   ]
  },
  {
   "cell_type": "markdown",
   "id": "f1c1734a",
   "metadata": {},
   "source": [
    "Next we'll see the relationship between users who were referred by another user and whether they are adopted users or not.  We'll create a new binary feature called 'referred', where 0 represents that the user was not referred and 1 represents that the user was referred."
   ]
  },
  {
   "cell_type": "code",
   "execution_count": 34,
   "id": "579143a8",
   "metadata": {},
   "outputs": [],
   "source": [
    "df['referred'] = np.where(df['invited_by_user_id'].isnull(), 0, 1)"
   ]
  },
  {
   "cell_type": "code",
   "execution_count": 35,
   "id": "00e6e5f2",
   "metadata": {},
   "outputs": [],
   "source": [
    "# analyze percentages of referred for adopted users\n",
    "referred_ad = df[df['adopted_user']==1]['referred'].value_counts(normalize=True).sort_index()\n",
    "\n",
    "# analyze percentages of referred for non-adopted users\n",
    "referred_nonad = df[df['adopted_user']==0]['referred'].value_counts(normalize=True).sort_index()"
   ]
  },
  {
   "cell_type": "code",
   "execution_count": 36,
   "id": "9768e759",
   "metadata": {},
   "outputs": [
    {
     "data": {
      "image/png": "[encoded data removed]",
      "text/plain": [
       "<Figure size 432x288 with 1 Axes>"
      ]
     },
     "metadata": {
      "needs_background": "light"
     },
     "output_type": "display_data"
    }
   ],
   "source": [
    "# graph bar plot of referred for adopted and non adopted users\n",
    "X = referred_ad.index\n",
    "X_axis = np.arange(len(X))\n",
    "\n",
    "plt.bar(X_axis-0.2, referred_ad, width = 0.4, label = 'Adopted users')\n",
    "plt.bar(X_axis+0.2, referred_nonad, width = 0.4, label = 'Nonadopted users')\n",
    "plt.xticks(X_axis, X, rotation=90)\n",
    "plt.xlabel('Referred')\n",
    "plt.ylabel('Percentage of users')\n",
    "plt.title('Users referred for adopted and non-adopted users')\n",
    "plt.legend()\n",
    "plt.show()"
   ]
  },
  {
   "cell_type": "markdown",
   "id": "bf1c1c79",
   "metadata": {},
   "source": [
    "Both adopted users and non-adopted users have more who are referred than not referred.  Out of those who are referred, there is a greater percentage of adopted users.  Out of those who are not referred, there is a greater percentage of non-adopted users."
   ]
  },
  {
   "cell_type": "markdown",
   "id": "f0717696",
   "metadata": {},
   "source": [
    "## 4. Preprocessing"
   ]
  },
  {
   "cell_type": "code",
   "execution_count": 37,
   "id": "229ed140",
   "metadata": {},
   "outputs": [],
   "source": [
    "# get dummy variables\n",
    "df = pd.get_dummies(df, columns=['creation_source'])"
   ]
  },
  {
   "cell_type": "code",
   "execution_count": 38,
   "id": "a247693e",
   "metadata": {},
   "outputs": [],
   "source": [
    "# drop columns\n",
    "cols_drop = ['user_id', \n",
    "             'creation_time', \n",
    "             'name', \n",
    "             'email', \n",
    "             'last_session_creation_time',\n",
    "             'org_id',\n",
    "             'invited_by_user_id'\n",
    "            ]\n",
    "\n",
    "# Remove two columns name is 'C' and 'D'\n",
    "df = df.drop(cols_drop, axis = 1)"
   ]
  },
  {
   "cell_type": "code",
   "execution_count": 39,
   "id": "4fe7ecaf",
   "metadata": {},
   "outputs": [
    {
     "name": "stdout",
     "output_type": "stream",
     "text": [
      "<class 'pandas.core.frame.DataFrame'>\n",
      "Int64Index: 8823 entries, 0 to 11999\n",
      "Data columns (total 10 columns):\n",
      " #   Column                              Non-Null Count  Dtype  \n",
      "---  ------                              --------------  -----  \n",
      " 0   opted_in_to_mailing_list            8823 non-null   int64  \n",
      " 1   enabled_for_marketing_drip          8823 non-null   int64  \n",
      " 2   adopted_user                        8823 non-null   float64\n",
      " 3   usage_length                        8823 non-null   int64  \n",
      " 4   referred                            8823 non-null   int64  \n",
      " 5   creation_source_GUEST_INVITE        8823 non-null   uint8  \n",
      " 6   creation_source_ORG_INVITE          8823 non-null   uint8  \n",
      " 7   creation_source_PERSONAL_PROJECTS   8823 non-null   uint8  \n",
      " 8   creation_source_SIGNUP              8823 non-null   uint8  \n",
      " 9   creation_source_SIGNUP_GOOGLE_AUTH  8823 non-null   uint8  \n",
      "dtypes: float64(1), int64(4), uint8(5)\n",
      "memory usage: 714.7 KB\n"
     ]
    }
   ],
   "source": [
    "df.info()"
   ]
  },
  {
   "cell_type": "code",
   "execution_count": 40,
   "id": "ff205628",
   "metadata": {},
   "outputs": [],
   "source": [
    "# separate X and y\n",
    "X = df.drop('adopted_user', axis=1)\n",
    "y = df['adopted_user']"
   ]
  },
  {
   "cell_type": "code",
   "execution_count": 41,
   "id": "42b3f7dc",
   "metadata": {},
   "outputs": [],
   "source": [
    "# save column names\n",
    "X_cols = list(X.columns)"
   ]
  },
  {
   "cell_type": "markdown",
   "id": "aa45e28c",
   "metadata": {},
   "source": [
    "We'll identify how many of each class we have in our target."
   ]
  },
  {
   "cell_type": "code",
   "execution_count": 42,
   "id": "40a733a2",
   "metadata": {},
   "outputs": [
    {
     "data": {
      "text/plain": [
       "0.0    0.818429\n",
       "1.0    0.181571\n",
       "Name: adopted_user, dtype: float64"
      ]
     },
     "execution_count": 42,
     "metadata": {},
     "output_type": "execute_result"
    }
   ],
   "source": [
    "y.value_counts(normalize=True)"
   ]
  },
  {
   "cell_type": "markdown",
   "id": "ecc0003c",
   "metadata": {},
   "source": [
    "Given the imbalanced nature of this dataset, we'll make sure to stratify our train test split"
   ]
  },
  {
   "cell_type": "code",
   "execution_count": 43,
   "id": "1b332249",
   "metadata": {},
   "outputs": [],
   "source": [
    "# Split the data into train and test sets.\n",
    "# set stratify = y\n",
    "X_train, X_test, y_train, y_test = train_test_split(X, y, \n",
    "                                                    test_size=0.20, \n",
    "                                                    random_state=16, \n",
    "                                                    stratify = y)"
   ]
  },
  {
   "cell_type": "code",
   "execution_count": 44,
   "id": "20df9a35",
   "metadata": {},
   "outputs": [],
   "source": [
    "# scale data\n",
    "\n",
    "sc = StandardScaler()\n",
    "\n",
    "X_train = sc.fit_transform(X_train)\n",
    "X_test = sc.transform(X_test)"
   ]
  },
  {
   "cell_type": "markdown",
   "id": "4b024739",
   "metadata": {},
   "source": [
    "## 5. Modeling"
   ]
  },
  {
   "cell_type": "markdown",
   "id": "b6ba4ffd",
   "metadata": {},
   "source": [
    "We'll use Logistic Regression, Random Forest, and XGBoost algorithms to compare."
   ]
  },
  {
   "cell_type": "code",
   "execution_count": 45,
   "id": "90a125df",
   "metadata": {},
   "outputs": [],
   "source": [
    "lr = LogisticRegression(solver='liblinear')\n",
    "\n",
    "lr.fit(X_train, y_train)\n",
    "\n",
    "y_pred_lr = lr.predict(X_test)"
   ]
  },
  {
   "cell_type": "code",
   "execution_count": 46,
   "id": "8d915e23",
   "metadata": {},
   "outputs": [],
   "source": [
    "rf = RandomForestClassifier()\n",
    "\n",
    "rf.fit(X_train, y_train)\n",
    "\n",
    "y_pred_rf = rf.predict(X_test)"
   ]
  },
  {
   "cell_type": "code",
   "execution_count": 47,
   "id": "05c54837",
   "metadata": {},
   "outputs": [],
   "source": [
    "xg = XGBClassifier(eval_metric = 'logloss')\n",
    "\n",
    "xg.fit(X_train, y_train)\n",
    "\n",
    "y_pred_xg = xg.predict(X_test)"
   ]
  },
  {
   "cell_type": "code",
   "execution_count": 48,
   "id": "524f57fa",
   "metadata": {},
   "outputs": [
    {
     "name": "stdout",
     "output_type": "stream",
     "text": [
      "Logistic Regression\n",
      "              precision    recall  f1-score   support\n",
      "\n",
      "         0.0       0.98      0.98      0.98      1445\n",
      "         1.0       0.93      0.90      0.91       320\n",
      "\n",
      "    accuracy                           0.97      1765\n",
      "   macro avg       0.95      0.94      0.95      1765\n",
      "weighted avg       0.97      0.97      0.97      1765\n",
      "\n",
      "Random Forest\n",
      "              precision    recall  f1-score   support\n",
      "\n",
      "         0.0       0.97      0.97      0.97      1445\n",
      "         1.0       0.86      0.87      0.87       320\n",
      "\n",
      "    accuracy                           0.95      1765\n",
      "   macro avg       0.91      0.92      0.92      1765\n",
      "weighted avg       0.95      0.95      0.95      1765\n",
      "\n",
      "XGBoost\n",
      "              precision    recall  f1-score   support\n",
      "\n",
      "         0.0       0.97      0.98      0.98      1445\n",
      "         1.0       0.92      0.88      0.90       320\n",
      "\n",
      "    accuracy                           0.96      1765\n",
      "   macro avg       0.95      0.93      0.94      1765\n",
      "weighted avg       0.96      0.96      0.96      1765\n",
      "\n"
     ]
    }
   ],
   "source": [
    "print('Logistic Regression')\n",
    "print(classification_report(y_test,y_pred_lr))\n",
    "print('Random Forest')\n",
    "print(classification_report(y_test,y_pred_rf))\n",
    "print('XGBoost')\n",
    "print(classification_report(y_test,y_pred_xg))"
   ]
  },
  {
   "cell_type": "code",
   "execution_count": 49,
   "id": "7d495065",
   "metadata": {},
   "outputs": [],
   "source": [
    "# generate confusion matrices\n",
    "cm_lr = confusion_matrix(y_test, y_pred_lr)\n",
    "cm_rf = confusion_matrix(y_test, y_pred_rf)\n",
    "cm_xg = confusion_matrix(y_test, y_pred_xg)"
   ]
  },
  {
   "cell_type": "code",
   "execution_count": 50,
   "id": "2a7fd561",
   "metadata": {},
   "outputs": [
    {
     "data": {
      "image/png": "[encoded data removed]",
      "text/plain": [
       "<Figure size 1080x288 with 6 Axes>"
      ]
     },
     "metadata": {
      "needs_background": "light"
     },
     "output_type": "display_data"
    }
   ],
   "source": [
    "# plot confusion matrices\n",
    "\n",
    "fig, ax = plt.subplots(1,3, figsize=(15,4))\n",
    "\n",
    "sns.heatmap(cm_lr, annot=True, fmt = '', cmap = 'Blues',ax = ax[0])\n",
    "ax[0].set_xlabel('Predicted label')\n",
    "ax[0].set_ylabel('True label')\n",
    "ax[0].set_title('Logistic Regression')\n",
    "\n",
    "sns.heatmap(cm_rf, annot=True, fmt = '', cmap = 'Blues',ax = ax[1])\n",
    "ax[1].set_xlabel('Predicted label')\n",
    "ax[1].set_ylabel('True label')\n",
    "ax[1].set_title('Random Forest')\n",
    "\n",
    "sns.heatmap(cm_xg, annot=True, fmt = '', cmap = 'Blues',ax = ax[2])\n",
    "ax[2].set_xlabel('Predicted label')\n",
    "ax[2].set_ylabel('True label')\n",
    "ax[2].set_title('XGBoost')\n",
    "\n",
    "plt.show()"
   ]
  },
  {
   "cell_type": "code",
   "execution_count": 51,
   "id": "0f1ca12b",
   "metadata": {},
   "outputs": [],
   "source": [
    "# define a function to plot the ROC curve\n",
    "def roc_plot(clf, label):\n",
    "    y_pred_proba = clf.predict_proba(X_test)[:, 1]\n",
    "    fpr, tpr,_ = roc_curve(y_test, y_pred_proba)\n",
    "    plt.plot(fpr, tpr, \n",
    "             label = label + ' AUC: ' + str(round(roc_auc_score(y_score = y_pred_proba, y_true = y_test), 4)))\n",
    "    "
   ]
  },
  {
   "cell_type": "code",
   "execution_count": 52,
   "id": "433e4707",
   "metadata": {},
   "outputs": [
    {
     "data": {
      "image/png": "[encoded data removed]",
      "text/plain": [
       "<Figure size 432x432 with 1 Axes>"
      ]
     },
     "metadata": {
      "needs_background": "light"
     },
     "output_type": "display_data"
    }
   ],
   "source": [
    "plt.figure(figsize = (6, 6))\n",
    "roc_plot(lr, 'Logistic Regression')\n",
    "roc_plot(rf, 'Random Forest')\n",
    "roc_plot(xg, 'XGBoost')\n",
    "plt.plot([0, 1], [0, 1], 'k--')\n",
    "plt.title(\"ROC Curves\")\n",
    "plt.legend(loc='best', frameon=True)\n",
    "plt.show()"
   ]
  },
  {
   "cell_type": "markdown",
   "id": "4cd6bf10",
   "metadata": {},
   "source": [
    "Our logistic regression model performs the best, with the highest value for accuracy of 97% as well as the highest value for AUROC of 0.9933."
   ]
  },
  {
   "cell_type": "markdown",
   "id": "7ed65f2e",
   "metadata": {},
   "source": [
    "## 6. Feature Impact"
   ]
  },
  {
   "cell_type": "markdown",
   "id": "9a8a5229",
   "metadata": {},
   "source": [
    "We'll look at the coefficients of the Logistic Regression model to see how the features affect the target."
   ]
  },
  {
   "cell_type": "code",
   "execution_count": 53,
   "id": "82b05855",
   "metadata": {},
   "outputs": [
    {
     "data": {
      "text/plain": [
       "array([ 1.49967503e-01, -2.50147570e-02,  7.95655747e+00,  3.42012986e-03,\n",
       "        2.08775491e-02, -1.30914530e-02, -4.23214149e-02,  6.91960952e-03,\n",
       "        2.04255961e-02])"
      ]
     },
     "execution_count": 53,
     "metadata": {},
     "output_type": "execute_result"
    }
   ],
   "source": [
    "importance = lr.coef_[0]\n",
    "importance"
   ]
  },
  {
   "cell_type": "code",
   "execution_count": 54,
   "id": "44bae90e",
   "metadata": {},
   "outputs": [],
   "source": [
    "coeffs = pd.DataFrame(zip(X_cols, importance), columns = ['Feature', 'Coefficient'])"
   ]
  },
  {
   "cell_type": "code",
   "execution_count": 55,
   "id": "229768d0",
   "metadata": {},
   "outputs": [
    {
     "data": {
      "image/png": "[encoded data removed]",
      "text/plain": [
       "<Figure size 432x288 with 1 Axes>"
      ]
     },
     "metadata": {
      "needs_background": "light"
     },
     "output_type": "display_data"
    }
   ],
   "source": [
    "plt.barh(coeffs['Feature'], coeffs['Coefficient'])\n",
    "plt.title('Logistic Regression Feature Coefficients')\n",
    "plt.xlabel('Coefficient')\n",
    "plt.ylabel('Feature')\n",
    "plt.show()"
   ]
  },
  {
   "cell_type": "markdown",
   "id": "bc28f5d8",
   "metadata": {},
   "source": [
    "Based on the coefficients of our Logistic Regression model, it's clear that coefficient for 'usage_length' has the largest magnitude.  This indicates that the difference in time from when a user first created their account to the last time they logged in has the greatest positive impact on the liklihood that a user will be an adopted user.\n",
    "\n",
    "As a result, we would recommend that Relax find ways to incentivize users to stay active long after they first created their account.\n"
   ]
  }
 ],
 "metadata": {
  "kernelspec": {
   "display_name": "Python 3 (ipykernel)",
   "language": "python",
   "name": "python3"
  },
  "language_info": {
   "codemirror_mode": {
    "name": "ipython",
    "version": 3
   },
   "file_extension": ".py",
   "mimetype": "text/x-python",
   "name": "python",
   "nbconvert_exporter": "python",
   "pygments_lexer": "ipython3",
   "version": "3.8.12"
  }
 },
 "nbformat": 4,
 "nbformat_minor": 5
}
