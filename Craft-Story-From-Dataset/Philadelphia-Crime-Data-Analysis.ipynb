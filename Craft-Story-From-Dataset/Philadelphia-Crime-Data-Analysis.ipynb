{
 "cells": [
  {
   "cell_type": "markdown",
   "id": "e4d1828d",
   "metadata": {},
   "source": [
    "# Introduction"
   ]
  },
  {
   "cell_type": "markdown",
   "id": "58d6fa52",
   "metadata": {},
   "source": [
    "Our objective is to analyze crime data in Philadelphia from the past 10 full years (2011 - 2020).  We will be addressing the following questions:\n",
    "\n",
    "1. What type of crime is most common in Philadelphia?\n",
    "2. What time of day are certain crimes more likely to occur?\n",
    "3. Over the course of the ten year time frame, how has crime changed?\n",
    "    - Which crimes have become less common?\n",
    "    - Which crimes have become more common?\n",
    "4. Which day has the most amount of crime? The least amount of crime?\n",
    "5. In which neighborhoods do the top crimes take place?\n",
    "6. Which police districts have seen the greatest decrease in crime?\n",
    "7. Which police districts have seen the greatest increase in crime?\n",
    "\n",
    "## Data:\n",
    "\n",
    "https://www.opendataphilly.org/dataset/crime-incidents\n"
   ]
  },
  {
   "cell_type": "markdown",
   "id": "c426c0fd",
   "metadata": {},
   "source": [
    "## Import packages"
   ]
  },
  {
   "cell_type": "code",
   "execution_count": 1,
   "id": "657339e3",
   "metadata": {},
   "outputs": [],
   "source": [
    "import pandas as pd\n",
    "import numpy as np\n",
    "import matplotlib.pyplot as plt\n",
    "import seaborn as sns\n",
    "from matplotlib.dates import DateFormatter\n",
    "import matplotlib.dates as mdates\n",
    "from matplotlib import dates"
   ]
  },
  {
   "cell_type": "code",
   "execution_count": 2,
   "id": "10dfc5ad",
   "metadata": {
    "scrolled": true
   },
   "outputs": [
    {
     "name": "stderr",
     "output_type": "stream",
     "text": [
      "/Users/chrischung/opt/anaconda3/envs/snowflakes/lib/python3.8/site-packages/IPython/core/interactiveshell.py:3441: DtypeWarning: Columns (2) have mixed types.Specify dtype option on import or set low_memory=False.\n",
      "  exec(code_obj, self.user_global_ns, self.user_ns)\n"
     ]
    }
   ],
   "source": [
    "crime_2011 = pd.read_csv(\"2011.csv\")\n",
    "crime_2012 = pd.read_csv(\"2012.csv\")\n",
    "crime_2013 = pd.read_csv(\"2013.csv\")\n",
    "crime_2014 = pd.read_csv(\"2014.csv\")\n",
    "crime_2015 = pd.read_csv(\"2015.csv\")\n",
    "crime_2016 = pd.read_csv(\"2016.csv\")\n",
    "crime_2017 = pd.read_csv(\"2017.csv\")\n",
    "crime_2018 = pd.read_csv(\"2018.csv\")\n",
    "crime_2019 = pd.read_csv(\"2019.csv\")\n",
    "crime_2020 = pd.read_csv(\"2020.csv\")"
   ]
  },
  {
   "cell_type": "code",
   "execution_count": 3,
   "id": "2224df78",
   "metadata": {
    "scrolled": true
   },
   "outputs": [
    {
     "data": {
      "text/html": [
       "<div>\n",
       "<style scoped>\n",
       "    .dataframe tbody tr th:only-of-type {\n",
       "        vertical-align: middle;\n",
       "    }\n",
       "\n",
       "    .dataframe tbody tr th {\n",
       "        vertical-align: top;\n",
       "    }\n",
       "\n",
       "    .dataframe thead th {\n",
       "        text-align: right;\n",
       "    }\n",
       "</style>\n",
       "<table border=\"1\" class=\"dataframe\">\n",
       "  <thead>\n",
       "    <tr style=\"text-align: right;\">\n",
       "      <th></th>\n",
       "      <th>objectid</th>\n",
       "      <th>dc_dist</th>\n",
       "      <th>psa</th>\n",
       "      <th>dispatch_date_time</th>\n",
       "      <th>dispatch_date</th>\n",
       "      <th>dispatch_time</th>\n",
       "      <th>hour_</th>\n",
       "      <th>dc_key</th>\n",
       "      <th>location_block</th>\n",
       "      <th>ucr_general</th>\n",
       "      <th>text_general_code</th>\n",
       "      <th>point_x</th>\n",
       "      <th>point_y</th>\n",
       "      <th>lat</th>\n",
       "      <th>lng</th>\n",
       "    </tr>\n",
       "  </thead>\n",
       "  <tbody>\n",
       "    <tr>\n",
       "      <th>0</th>\n",
       "      <td>111</td>\n",
       "      <td>2</td>\n",
       "      <td>1</td>\n",
       "      <td>2011-09-08 11:27:00</td>\n",
       "      <td>2011-09-08</td>\n",
       "      <td>11:27:00</td>\n",
       "      <td>11</td>\n",
       "      <td>201102059237</td>\n",
       "      <td>5900 BLOCK LORETTO AVE</td>\n",
       "      <td>500</td>\n",
       "      <td>Burglary Residential</td>\n",
       "      <td>-75.084372</td>\n",
       "      <td>40.034867</td>\n",
       "      <td>40.034867</td>\n",
       "      <td>-75.084372</td>\n",
       "    </tr>\n",
       "  </tbody>\n",
       "</table>\n",
       "</div>"
      ],
      "text/plain": [
       "   objectid  dc_dist psa   dispatch_date_time dispatch_date dispatch_time  \\\n",
       "0       111        2   1  2011-09-08 11:27:00    2011-09-08      11:27:00   \n",
       "\n",
       "   hour_        dc_key          location_block  ucr_general  \\\n",
       "0     11  201102059237  5900 BLOCK LORETTO AVE          500   \n",
       "\n",
       "      text_general_code    point_x    point_y        lat        lng  \n",
       "0  Burglary Residential -75.084372  40.034867  40.034867 -75.084372  "
      ]
     },
     "execution_count": 3,
     "metadata": {},
     "output_type": "execute_result"
    }
   ],
   "source": [
    "crime_2011.head(1)"
   ]
  },
  {
   "cell_type": "code",
   "execution_count": 4,
   "id": "3b0c55d4",
   "metadata": {
    "scrolled": true
   },
   "outputs": [
    {
     "data": {
      "text/html": [
       "<div>\n",
       "<style scoped>\n",
       "    .dataframe tbody tr th:only-of-type {\n",
       "        vertical-align: middle;\n",
       "    }\n",
       "\n",
       "    .dataframe tbody tr th {\n",
       "        vertical-align: top;\n",
       "    }\n",
       "\n",
       "    .dataframe thead th {\n",
       "        text-align: right;\n",
       "    }\n",
       "</style>\n",
       "<table border=\"1\" class=\"dataframe\">\n",
       "  <thead>\n",
       "    <tr style=\"text-align: right;\">\n",
       "      <th></th>\n",
       "      <th>objectid</th>\n",
       "      <th>dc_dist</th>\n",
       "      <th>psa</th>\n",
       "      <th>dispatch_date_time</th>\n",
       "      <th>dispatch_date</th>\n",
       "      <th>dispatch_time</th>\n",
       "      <th>hour_</th>\n",
       "      <th>dc_key</th>\n",
       "      <th>location_block</th>\n",
       "      <th>ucr_general</th>\n",
       "      <th>text_general_code</th>\n",
       "      <th>point_x</th>\n",
       "      <th>point_y</th>\n",
       "      <th>lat</th>\n",
       "      <th>lng</th>\n",
       "    </tr>\n",
       "  </thead>\n",
       "  <tbody>\n",
       "    <tr>\n",
       "      <th>0</th>\n",
       "      <td>126</td>\n",
       "      <td>12</td>\n",
       "      <td>1</td>\n",
       "      <td>2012-06-13 21:28:00</td>\n",
       "      <td>2012-06-13</td>\n",
       "      <td>21:28:00</td>\n",
       "      <td>21</td>\n",
       "      <td>201212043124</td>\n",
       "      <td>6600 BLOCK ESSINGTON AVE</td>\n",
       "      <td>300</td>\n",
       "      <td>Robbery Firearm</td>\n",
       "      <td>-75.220592</td>\n",
       "      <td>39.91443</td>\n",
       "      <td>39.91443</td>\n",
       "      <td>-75.220592</td>\n",
       "    </tr>\n",
       "  </tbody>\n",
       "</table>\n",
       "</div>"
      ],
      "text/plain": [
       "   objectid  dc_dist psa   dispatch_date_time dispatch_date dispatch_time  \\\n",
       "0       126       12   1  2012-06-13 21:28:00    2012-06-13      21:28:00   \n",
       "\n",
       "   hour_        dc_key            location_block  ucr_general  \\\n",
       "0     21  201212043124  6600 BLOCK ESSINGTON AVE          300   \n",
       "\n",
       "  text_general_code    point_x   point_y       lat        lng  \n",
       "0   Robbery Firearm -75.220592  39.91443  39.91443 -75.220592  "
      ]
     },
     "execution_count": 4,
     "metadata": {},
     "output_type": "execute_result"
    }
   ],
   "source": [
    "crime_2012.head(1)"
   ]
  },
  {
   "cell_type": "code",
   "execution_count": 5,
   "id": "4295a173",
   "metadata": {},
   "outputs": [
    {
     "data": {
      "text/html": [
       "<div>\n",
       "<style scoped>\n",
       "    .dataframe tbody tr th:only-of-type {\n",
       "        vertical-align: middle;\n",
       "    }\n",
       "\n",
       "    .dataframe tbody tr th {\n",
       "        vertical-align: top;\n",
       "    }\n",
       "\n",
       "    .dataframe thead th {\n",
       "        text-align: right;\n",
       "    }\n",
       "</style>\n",
       "<table border=\"1\" class=\"dataframe\">\n",
       "  <thead>\n",
       "    <tr style=\"text-align: right;\">\n",
       "      <th></th>\n",
       "      <th>objectid</th>\n",
       "      <th>dc_dist</th>\n",
       "      <th>psa</th>\n",
       "      <th>dispatch_date_time</th>\n",
       "      <th>dispatch_date</th>\n",
       "      <th>dispatch_time</th>\n",
       "      <th>hour_</th>\n",
       "      <th>dc_key</th>\n",
       "      <th>location_block</th>\n",
       "      <th>ucr_general</th>\n",
       "      <th>text_general_code</th>\n",
       "      <th>point_x</th>\n",
       "      <th>point_y</th>\n",
       "      <th>lat</th>\n",
       "      <th>lng</th>\n",
       "    </tr>\n",
       "  </thead>\n",
       "  <tbody>\n",
       "    <tr>\n",
       "      <th>0</th>\n",
       "      <td>107</td>\n",
       "      <td>6</td>\n",
       "      <td>1</td>\n",
       "      <td>2013-05-28 09:43:00</td>\n",
       "      <td>2013-05-28</td>\n",
       "      <td>09:43:00</td>\n",
       "      <td>9</td>\n",
       "      <td>201306025636</td>\n",
       "      <td>N 02ND ST / SPRING GARDEN ST</td>\n",
       "      <td>600</td>\n",
       "      <td>Thefts</td>\n",
       "      <td>-75.141441</td>\n",
       "      <td>39.960712</td>\n",
       "      <td>39.960712</td>\n",
       "      <td>-75.141441</td>\n",
       "    </tr>\n",
       "  </tbody>\n",
       "</table>\n",
       "</div>"
      ],
      "text/plain": [
       "   objectid  dc_dist psa   dispatch_date_time dispatch_date dispatch_time  \\\n",
       "0       107        6   1  2013-05-28 09:43:00    2013-05-28      09:43:00   \n",
       "\n",
       "   hour_        dc_key                location_block  ucr_general  \\\n",
       "0      9  201306025636  N 02ND ST / SPRING GARDEN ST          600   \n",
       "\n",
       "  text_general_code    point_x    point_y        lat        lng  \n",
       "0            Thefts -75.141441  39.960712  39.960712 -75.141441  "
      ]
     },
     "execution_count": 5,
     "metadata": {},
     "output_type": "execute_result"
    }
   ],
   "source": [
    "crime_2013.head(1)"
   ]
  },
  {
   "cell_type": "code",
   "execution_count": 6,
   "id": "3e6cfff7",
   "metadata": {},
   "outputs": [
    {
     "data": {
      "text/html": [
       "<div>\n",
       "<style scoped>\n",
       "    .dataframe tbody tr th:only-of-type {\n",
       "        vertical-align: middle;\n",
       "    }\n",
       "\n",
       "    .dataframe tbody tr th {\n",
       "        vertical-align: top;\n",
       "    }\n",
       "\n",
       "    .dataframe thead th {\n",
       "        text-align: right;\n",
       "    }\n",
       "</style>\n",
       "<table border=\"1\" class=\"dataframe\">\n",
       "  <thead>\n",
       "    <tr style=\"text-align: right;\">\n",
       "      <th></th>\n",
       "      <th>objectid</th>\n",
       "      <th>dc_dist</th>\n",
       "      <th>psa</th>\n",
       "      <th>dispatch_date_time</th>\n",
       "      <th>dispatch_date</th>\n",
       "      <th>dispatch_time</th>\n",
       "      <th>hour_</th>\n",
       "      <th>dc_key</th>\n",
       "      <th>location_block</th>\n",
       "      <th>ucr_general</th>\n",
       "      <th>text_general_code</th>\n",
       "      <th>point_x</th>\n",
       "      <th>point_y</th>\n",
       "      <th>lat</th>\n",
       "      <th>lng</th>\n",
       "    </tr>\n",
       "  </thead>\n",
       "  <tbody>\n",
       "    <tr>\n",
       "      <th>0</th>\n",
       "      <td>110</td>\n",
       "      <td>6</td>\n",
       "      <td>1</td>\n",
       "      <td>2014-01-27 13:12:00</td>\n",
       "      <td>2014-01-27</td>\n",
       "      <td>13:12:00</td>\n",
       "      <td>13.0</td>\n",
       "      <td>201406003790</td>\n",
       "      <td>N 02ND ST / SPRING GARDEN ST</td>\n",
       "      <td>600</td>\n",
       "      <td>Thefts</td>\n",
       "      <td>-75.141441</td>\n",
       "      <td>39.960712</td>\n",
       "      <td>39.960712</td>\n",
       "      <td>-75.141441</td>\n",
       "    </tr>\n",
       "  </tbody>\n",
       "</table>\n",
       "</div>"
      ],
      "text/plain": [
       "   objectid  dc_dist psa   dispatch_date_time dispatch_date dispatch_time  \\\n",
       "0       110        6   1  2014-01-27 13:12:00    2014-01-27      13:12:00   \n",
       "\n",
       "   hour_        dc_key                location_block  ucr_general  \\\n",
       "0   13.0  201406003790  N 02ND ST / SPRING GARDEN ST          600   \n",
       "\n",
       "  text_general_code    point_x    point_y        lat        lng  \n",
       "0            Thefts -75.141441  39.960712  39.960712 -75.141441  "
      ]
     },
     "execution_count": 6,
     "metadata": {},
     "output_type": "execute_result"
    }
   ],
   "source": [
    "crime_2014.head(1)"
   ]
  },
  {
   "cell_type": "code",
   "execution_count": 7,
   "id": "da4bd9f8",
   "metadata": {},
   "outputs": [
    {
     "data": {
      "text/html": [
       "<div>\n",
       "<style scoped>\n",
       "    .dataframe tbody tr th:only-of-type {\n",
       "        vertical-align: middle;\n",
       "    }\n",
       "\n",
       "    .dataframe tbody tr th {\n",
       "        vertical-align: top;\n",
       "    }\n",
       "\n",
       "    .dataframe thead th {\n",
       "        text-align: right;\n",
       "    }\n",
       "</style>\n",
       "<table border=\"1\" class=\"dataframe\">\n",
       "  <thead>\n",
       "    <tr style=\"text-align: right;\">\n",
       "      <th></th>\n",
       "      <th>objectid</th>\n",
       "      <th>dc_dist</th>\n",
       "      <th>psa</th>\n",
       "      <th>dispatch_date_time</th>\n",
       "      <th>dispatch_date</th>\n",
       "      <th>dispatch_time</th>\n",
       "      <th>hour_</th>\n",
       "      <th>dc_key</th>\n",
       "      <th>location_block</th>\n",
       "      <th>ucr_general</th>\n",
       "      <th>text_general_code</th>\n",
       "      <th>point_x</th>\n",
       "      <th>point_y</th>\n",
       "      <th>lat</th>\n",
       "      <th>lng</th>\n",
       "    </tr>\n",
       "  </thead>\n",
       "  <tbody>\n",
       "    <tr>\n",
       "      <th>0</th>\n",
       "      <td>120</td>\n",
       "      <td>12</td>\n",
       "      <td>1</td>\n",
       "      <td>2015-01-15 08:58:00</td>\n",
       "      <td>2015-01-15</td>\n",
       "      <td>08:58:00</td>\n",
       "      <td>8</td>\n",
       "      <td>201512003444</td>\n",
       "      <td>6600 BLOCK ESSINGTON AVE</td>\n",
       "      <td>500</td>\n",
       "      <td>Burglary Non-Residential</td>\n",
       "      <td>-75.220592</td>\n",
       "      <td>39.91443</td>\n",
       "      <td>39.91443</td>\n",
       "      <td>-75.220592</td>\n",
       "    </tr>\n",
       "  </tbody>\n",
       "</table>\n",
       "</div>"
      ],
      "text/plain": [
       "   objectid  dc_dist psa   dispatch_date_time dispatch_date dispatch_time  \\\n",
       "0       120       12   1  2015-01-15 08:58:00    2015-01-15      08:58:00   \n",
       "\n",
       "   hour_        dc_key            location_block  ucr_general  \\\n",
       "0      8  201512003444  6600 BLOCK ESSINGTON AVE          500   \n",
       "\n",
       "          text_general_code    point_x   point_y       lat        lng  \n",
       "0  Burglary Non-Residential -75.220592  39.91443  39.91443 -75.220592  "
      ]
     },
     "execution_count": 7,
     "metadata": {},
     "output_type": "execute_result"
    }
   ],
   "source": [
    "crime_2015.head(1)"
   ]
  },
  {
   "cell_type": "code",
   "execution_count": 8,
   "id": "4eeb50c6",
   "metadata": {},
   "outputs": [
    {
     "data": {
      "text/html": [
       "<div>\n",
       "<style scoped>\n",
       "    .dataframe tbody tr th:only-of-type {\n",
       "        vertical-align: middle;\n",
       "    }\n",
       "\n",
       "    .dataframe tbody tr th {\n",
       "        vertical-align: top;\n",
       "    }\n",
       "\n",
       "    .dataframe thead th {\n",
       "        text-align: right;\n",
       "    }\n",
       "</style>\n",
       "<table border=\"1\" class=\"dataframe\">\n",
       "  <thead>\n",
       "    <tr style=\"text-align: right;\">\n",
       "      <th></th>\n",
       "      <th>objectid</th>\n",
       "      <th>dc_dist</th>\n",
       "      <th>psa</th>\n",
       "      <th>dispatch_date_time</th>\n",
       "      <th>dispatch_date</th>\n",
       "      <th>dispatch_time</th>\n",
       "      <th>hour_</th>\n",
       "      <th>dc_key</th>\n",
       "      <th>location_block</th>\n",
       "      <th>ucr_general</th>\n",
       "      <th>text_general_code</th>\n",
       "      <th>point_x</th>\n",
       "      <th>point_y</th>\n",
       "      <th>lat</th>\n",
       "      <th>lng</th>\n",
       "    </tr>\n",
       "  </thead>\n",
       "  <tbody>\n",
       "    <tr>\n",
       "      <th>0</th>\n",
       "      <td>122</td>\n",
       "      <td>12</td>\n",
       "      <td>1</td>\n",
       "      <td>2016-12-21 21:29:00</td>\n",
       "      <td>2016-12-21</td>\n",
       "      <td>21:29:00</td>\n",
       "      <td>21</td>\n",
       "      <td>201612086657</td>\n",
       "      <td>6600 BLOCK ESSINGTON AVE</td>\n",
       "      <td>300</td>\n",
       "      <td>Robbery No Firearm</td>\n",
       "      <td>-75.220592</td>\n",
       "      <td>39.91443</td>\n",
       "      <td>39.91443</td>\n",
       "      <td>-75.220592</td>\n",
       "    </tr>\n",
       "  </tbody>\n",
       "</table>\n",
       "</div>"
      ],
      "text/plain": [
       "   objectid  dc_dist psa   dispatch_date_time dispatch_date dispatch_time  \\\n",
       "0       122       12   1  2016-12-21 21:29:00    2016-12-21      21:29:00   \n",
       "\n",
       "   hour_        dc_key            location_block  ucr_general  \\\n",
       "0     21  201612086657  6600 BLOCK ESSINGTON AVE          300   \n",
       "\n",
       "    text_general_code    point_x   point_y       lat        lng  \n",
       "0  Robbery No Firearm -75.220592  39.91443  39.91443 -75.220592  "
      ]
     },
     "execution_count": 8,
     "metadata": {},
     "output_type": "execute_result"
    }
   ],
   "source": [
    "crime_2016.head(1)"
   ]
  },
  {
   "cell_type": "code",
   "execution_count": 9,
   "id": "11935a23",
   "metadata": {},
   "outputs": [
    {
     "data": {
      "text/html": [
       "<div>\n",
       "<style scoped>\n",
       "    .dataframe tbody tr th:only-of-type {\n",
       "        vertical-align: middle;\n",
       "    }\n",
       "\n",
       "    .dataframe tbody tr th {\n",
       "        vertical-align: top;\n",
       "    }\n",
       "\n",
       "    .dataframe thead th {\n",
       "        text-align: right;\n",
       "    }\n",
       "</style>\n",
       "<table border=\"1\" class=\"dataframe\">\n",
       "  <thead>\n",
       "    <tr style=\"text-align: right;\">\n",
       "      <th></th>\n",
       "      <th>objectid</th>\n",
       "      <th>dc_dist</th>\n",
       "      <th>psa</th>\n",
       "      <th>dispatch_date_time</th>\n",
       "      <th>dispatch_date</th>\n",
       "      <th>dispatch_time</th>\n",
       "      <th>hour_</th>\n",
       "      <th>dc_key</th>\n",
       "      <th>location_block</th>\n",
       "      <th>ucr_general</th>\n",
       "      <th>text_general_code</th>\n",
       "      <th>point_x</th>\n",
       "      <th>point_y</th>\n",
       "      <th>lat</th>\n",
       "      <th>lng</th>\n",
       "    </tr>\n",
       "  </thead>\n",
       "  <tbody>\n",
       "    <tr>\n",
       "      <th>0</th>\n",
       "      <td>124</td>\n",
       "      <td>12</td>\n",
       "      <td>1</td>\n",
       "      <td>2017-10-18 00:10:00</td>\n",
       "      <td>2017-10-18</td>\n",
       "      <td>00:10:00</td>\n",
       "      <td>0</td>\n",
       "      <td>201712078257</td>\n",
       "      <td>6600 BLOCK ESSINGTON AVE</td>\n",
       "      <td>300</td>\n",
       "      <td>Robbery Firearm</td>\n",
       "      <td>-75.220592</td>\n",
       "      <td>39.91443</td>\n",
       "      <td>39.91443</td>\n",
       "      <td>-75.220592</td>\n",
       "    </tr>\n",
       "  </tbody>\n",
       "</table>\n",
       "</div>"
      ],
      "text/plain": [
       "   objectid  dc_dist psa   dispatch_date_time dispatch_date dispatch_time  \\\n",
       "0       124       12   1  2017-10-18 00:10:00    2017-10-18      00:10:00   \n",
       "\n",
       "   hour_        dc_key            location_block  ucr_general  \\\n",
       "0      0  201712078257  6600 BLOCK ESSINGTON AVE          300   \n",
       "\n",
       "  text_general_code    point_x   point_y       lat        lng  \n",
       "0   Robbery Firearm -75.220592  39.91443  39.91443 -75.220592  "
      ]
     },
     "execution_count": 9,
     "metadata": {},
     "output_type": "execute_result"
    }
   ],
   "source": [
    "crime_2017.head(1)"
   ]
  },
  {
   "cell_type": "code",
   "execution_count": 10,
   "id": "70f5726c",
   "metadata": {},
   "outputs": [
    {
     "data": {
      "text/html": [
       "<div>\n",
       "<style scoped>\n",
       "    .dataframe tbody tr th:only-of-type {\n",
       "        vertical-align: middle;\n",
       "    }\n",
       "\n",
       "    .dataframe tbody tr th {\n",
       "        vertical-align: top;\n",
       "    }\n",
       "\n",
       "    .dataframe thead th {\n",
       "        text-align: right;\n",
       "    }\n",
       "</style>\n",
       "<table border=\"1\" class=\"dataframe\">\n",
       "  <thead>\n",
       "    <tr style=\"text-align: right;\">\n",
       "      <th></th>\n",
       "      <th>objectid</th>\n",
       "      <th>dc_dist</th>\n",
       "      <th>psa</th>\n",
       "      <th>dispatch_date_time</th>\n",
       "      <th>dispatch_date</th>\n",
       "      <th>dispatch_time</th>\n",
       "      <th>hour_</th>\n",
       "      <th>dc_key</th>\n",
       "      <th>location_block</th>\n",
       "      <th>ucr_general</th>\n",
       "      <th>text_general_code</th>\n",
       "      <th>point_x</th>\n",
       "      <th>point_y</th>\n",
       "      <th>lat</th>\n",
       "      <th>lng</th>\n",
       "    </tr>\n",
       "  </thead>\n",
       "  <tbody>\n",
       "    <tr>\n",
       "      <th>0</th>\n",
       "      <td>117</td>\n",
       "      <td>12</td>\n",
       "      <td>1</td>\n",
       "      <td>2018-01-06 10:56:00</td>\n",
       "      <td>2018-01-06</td>\n",
       "      <td>10:56:00</td>\n",
       "      <td>10.0</td>\n",
       "      <td>201812001185</td>\n",
       "      <td>6600 BLOCK ESSINGTON AVE</td>\n",
       "      <td>600</td>\n",
       "      <td>Thefts</td>\n",
       "      <td>-75.220592</td>\n",
       "      <td>39.91443</td>\n",
       "      <td>39.91443</td>\n",
       "      <td>-75.220592</td>\n",
       "    </tr>\n",
       "  </tbody>\n",
       "</table>\n",
       "</div>"
      ],
      "text/plain": [
       "   objectid  dc_dist psa   dispatch_date_time dispatch_date dispatch_time  \\\n",
       "0       117       12   1  2018-01-06 10:56:00    2018-01-06      10:56:00   \n",
       "\n",
       "   hour_        dc_key            location_block  ucr_general  \\\n",
       "0   10.0  201812001185  6600 BLOCK ESSINGTON AVE          600   \n",
       "\n",
       "  text_general_code    point_x   point_y       lat        lng  \n",
       "0            Thefts -75.220592  39.91443  39.91443 -75.220592  "
      ]
     },
     "execution_count": 10,
     "metadata": {},
     "output_type": "execute_result"
    }
   ],
   "source": [
    "crime_2018.head(1)"
   ]
  },
  {
   "cell_type": "code",
   "execution_count": 11,
   "id": "8a0ef86a",
   "metadata": {},
   "outputs": [
    {
     "data": {
      "text/html": [
       "<div>\n",
       "<style scoped>\n",
       "    .dataframe tbody tr th:only-of-type {\n",
       "        vertical-align: middle;\n",
       "    }\n",
       "\n",
       "    .dataframe tbody tr th {\n",
       "        vertical-align: top;\n",
       "    }\n",
       "\n",
       "    .dataframe thead th {\n",
       "        text-align: right;\n",
       "    }\n",
       "</style>\n",
       "<table border=\"1\" class=\"dataframe\">\n",
       "  <thead>\n",
       "    <tr style=\"text-align: right;\">\n",
       "      <th></th>\n",
       "      <th>objectid</th>\n",
       "      <th>dc_dist</th>\n",
       "      <th>psa</th>\n",
       "      <th>dispatch_date_time</th>\n",
       "      <th>dispatch_date</th>\n",
       "      <th>dispatch_time</th>\n",
       "      <th>hour_</th>\n",
       "      <th>dc_key</th>\n",
       "      <th>location_block</th>\n",
       "      <th>ucr_general</th>\n",
       "      <th>text_general_code</th>\n",
       "      <th>point_x</th>\n",
       "      <th>point_y</th>\n",
       "      <th>lat</th>\n",
       "      <th>lng</th>\n",
       "    </tr>\n",
       "  </thead>\n",
       "  <tbody>\n",
       "    <tr>\n",
       "      <th>0</th>\n",
       "      <td>13</td>\n",
       "      <td>9</td>\n",
       "      <td>1</td>\n",
       "      <td>2019-11-12 09:59:00</td>\n",
       "      <td>2019-11-12</td>\n",
       "      <td>09:59:00</td>\n",
       "      <td>9.0</td>\n",
       "      <td>201909047628</td>\n",
       "      <td>100 BLOCK S BROAD ST</td>\n",
       "      <td>600</td>\n",
       "      <td>Thefts</td>\n",
       "      <td>-75.066628</td>\n",
       "      <td>40.049264</td>\n",
       "      <td>40.049264</td>\n",
       "      <td>-75.066628</td>\n",
       "    </tr>\n",
       "  </tbody>\n",
       "</table>\n",
       "</div>"
      ],
      "text/plain": [
       "   objectid  dc_dist psa   dispatch_date_time dispatch_date dispatch_time  \\\n",
       "0        13        9   1  2019-11-12 09:59:00    2019-11-12      09:59:00   \n",
       "\n",
       "   hour_        dc_key        location_block  ucr_general text_general_code  \\\n",
       "0    9.0  201909047628  100 BLOCK S BROAD ST          600            Thefts   \n",
       "\n",
       "     point_x    point_y        lat        lng  \n",
       "0 -75.066628  40.049264  40.049264 -75.066628  "
      ]
     },
     "execution_count": 11,
     "metadata": {},
     "output_type": "execute_result"
    }
   ],
   "source": [
    "crime_2019.head(1)"
   ]
  },
  {
   "cell_type": "code",
   "execution_count": 12,
   "id": "b86d02bb",
   "metadata": {
    "scrolled": false
   },
   "outputs": [
    {
     "data": {
      "text/html": [
       "<div>\n",
       "<style scoped>\n",
       "    .dataframe tbody tr th:only-of-type {\n",
       "        vertical-align: middle;\n",
       "    }\n",
       "\n",
       "    .dataframe tbody tr th {\n",
       "        vertical-align: top;\n",
       "    }\n",
       "\n",
       "    .dataframe thead th {\n",
       "        text-align: right;\n",
       "    }\n",
       "</style>\n",
       "<table border=\"1\" class=\"dataframe\">\n",
       "  <thead>\n",
       "    <tr style=\"text-align: right;\">\n",
       "      <th></th>\n",
       "      <th>the_geom</th>\n",
       "      <th>cartodb_id</th>\n",
       "      <th>the_geom_webmercator</th>\n",
       "      <th>objectid</th>\n",
       "      <th>dc_dist</th>\n",
       "      <th>psa</th>\n",
       "      <th>dispatch_date_time</th>\n",
       "      <th>dispatch_date</th>\n",
       "      <th>dispatch_time</th>\n",
       "      <th>hour_</th>\n",
       "      <th>dc_key</th>\n",
       "      <th>location_block</th>\n",
       "      <th>ucr_general</th>\n",
       "      <th>text_general_code</th>\n",
       "      <th>point_x</th>\n",
       "      <th>point_y</th>\n",
       "      <th>lat</th>\n",
       "      <th>lng</th>\n",
       "    </tr>\n",
       "  </thead>\n",
       "  <tbody>\n",
       "    <tr>\n",
       "      <th>0</th>\n",
       "      <td>0101000020E6100000CE175A2155CA52C0779E57C02DFB...</td>\n",
       "      <td>47</td>\n",
       "      <td>0101000020110F00009EBBEA78D5EA5FC11055888E8D8A...</td>\n",
       "      <td>22</td>\n",
       "      <td>9</td>\n",
       "      <td>2</td>\n",
       "      <td>2020-03-25 18:32:00</td>\n",
       "      <td>2020-03-25</td>\n",
       "      <td>18:32:00</td>\n",
       "      <td>18.0</td>\n",
       "      <td>202009012094</td>\n",
       "      <td>1400 BLOCK SPRING GARDEN ST</td>\n",
       "      <td>600</td>\n",
       "      <td>Theft from Vehicle</td>\n",
       "      <td>-75.161446</td>\n",
       "      <td>39.962334</td>\n",
       "      <td>39.962334</td>\n",
       "      <td>-75.161446</td>\n",
       "    </tr>\n",
       "  </tbody>\n",
       "</table>\n",
       "</div>"
      ],
      "text/plain": [
       "                                            the_geom  cartodb_id  \\\n",
       "0  0101000020E6100000CE175A2155CA52C0779E57C02DFB...          47   \n",
       "\n",
       "                                the_geom_webmercator  objectid  dc_dist psa  \\\n",
       "0  0101000020110F00009EBBEA78D5EA5FC11055888E8D8A...        22        9   2   \n",
       "\n",
       "    dispatch_date_time dispatch_date dispatch_time  hour_        dc_key  \\\n",
       "0  2020-03-25 18:32:00    2020-03-25      18:32:00   18.0  202009012094   \n",
       "\n",
       "                location_block  ucr_general   text_general_code    point_x  \\\n",
       "0  1400 BLOCK SPRING GARDEN ST          600  Theft from Vehicle -75.161446   \n",
       "\n",
       "     point_y        lat        lng  \n",
       "0  39.962334  39.962334 -75.161446  "
      ]
     },
     "execution_count": 12,
     "metadata": {},
     "output_type": "execute_result"
    }
   ],
   "source": [
    "crime_2020.head(1)"
   ]
  },
  {
   "cell_type": "markdown",
   "id": "cd22306b",
   "metadata": {},
   "source": [
    "Our crime_2020 dataframe has additional columns that do not match the rest of them so we will drop these columns."
   ]
  },
  {
   "cell_type": "code",
   "execution_count": 13,
   "id": "573bbab1",
   "metadata": {},
   "outputs": [
    {
     "data": {
      "text/html": [
       "<div>\n",
       "<style scoped>\n",
       "    .dataframe tbody tr th:only-of-type {\n",
       "        vertical-align: middle;\n",
       "    }\n",
       "\n",
       "    .dataframe tbody tr th {\n",
       "        vertical-align: top;\n",
       "    }\n",
       "\n",
       "    .dataframe thead th {\n",
       "        text-align: right;\n",
       "    }\n",
       "</style>\n",
       "<table border=\"1\" class=\"dataframe\">\n",
       "  <thead>\n",
       "    <tr style=\"text-align: right;\">\n",
       "      <th></th>\n",
       "      <th>objectid</th>\n",
       "      <th>dc_dist</th>\n",
       "      <th>psa</th>\n",
       "      <th>dispatch_date_time</th>\n",
       "      <th>dispatch_date</th>\n",
       "      <th>dispatch_time</th>\n",
       "      <th>hour_</th>\n",
       "      <th>dc_key</th>\n",
       "      <th>location_block</th>\n",
       "      <th>ucr_general</th>\n",
       "      <th>text_general_code</th>\n",
       "      <th>point_x</th>\n",
       "      <th>point_y</th>\n",
       "      <th>lat</th>\n",
       "      <th>lng</th>\n",
       "    </tr>\n",
       "  </thead>\n",
       "  <tbody>\n",
       "    <tr>\n",
       "      <th>0</th>\n",
       "      <td>22</td>\n",
       "      <td>9</td>\n",
       "      <td>2</td>\n",
       "      <td>2020-03-25 18:32:00</td>\n",
       "      <td>2020-03-25</td>\n",
       "      <td>18:32:00</td>\n",
       "      <td>18.0</td>\n",
       "      <td>202009012094</td>\n",
       "      <td>1400 BLOCK SPRING GARDEN ST</td>\n",
       "      <td>600</td>\n",
       "      <td>Theft from Vehicle</td>\n",
       "      <td>-75.161446</td>\n",
       "      <td>39.962334</td>\n",
       "      <td>39.962334</td>\n",
       "      <td>-75.161446</td>\n",
       "    </tr>\n",
       "  </tbody>\n",
       "</table>\n",
       "</div>"
      ],
      "text/plain": [
       "   objectid  dc_dist psa   dispatch_date_time dispatch_date dispatch_time  \\\n",
       "0        22        9   2  2020-03-25 18:32:00    2020-03-25      18:32:00   \n",
       "\n",
       "   hour_        dc_key               location_block  ucr_general  \\\n",
       "0   18.0  202009012094  1400 BLOCK SPRING GARDEN ST          600   \n",
       "\n",
       "    text_general_code    point_x    point_y        lat        lng  \n",
       "0  Theft from Vehicle -75.161446  39.962334  39.962334 -75.161446  "
      ]
     },
     "execution_count": 13,
     "metadata": {},
     "output_type": "execute_result"
    }
   ],
   "source": [
    "crime_2020 = crime_2020.drop(['the_geom', 'cartodb_id', 'the_geom_webmercator'], axis = 1)\n",
    "crime_2020.head(1)"
   ]
  },
  {
   "cell_type": "markdown",
   "id": "e7a5ff35",
   "metadata": {},
   "source": [
    "We will now concatenate all 10 dataframes into one dataframe, called 'df'."
   ]
  },
  {
   "cell_type": "code",
   "execution_count": 14,
   "id": "4e6f6372",
   "metadata": {},
   "outputs": [],
   "source": [
    "all_years = [crime_2011, crime_2012, crime_2013, crime_2014, crime_2015, crime_2016, crime_2017, crime_2018, crime_2019, crime_2020]\n",
    "df = pd.concat(all_years, axis = 0, ignore_index = True)"
   ]
  },
  {
   "cell_type": "code",
   "execution_count": 15,
   "id": "9612b936",
   "metadata": {
    "scrolled": false
   },
   "outputs": [
    {
     "data": {
      "text/html": [
       "<div>\n",
       "<style scoped>\n",
       "    .dataframe tbody tr th:only-of-type {\n",
       "        vertical-align: middle;\n",
       "    }\n",
       "\n",
       "    .dataframe tbody tr th {\n",
       "        vertical-align: top;\n",
       "    }\n",
       "\n",
       "    .dataframe thead th {\n",
       "        text-align: right;\n",
       "    }\n",
       "</style>\n",
       "<table border=\"1\" class=\"dataframe\">\n",
       "  <thead>\n",
       "    <tr style=\"text-align: right;\">\n",
       "      <th></th>\n",
       "      <th>objectid</th>\n",
       "      <th>dc_dist</th>\n",
       "      <th>psa</th>\n",
       "      <th>dispatch_date_time</th>\n",
       "      <th>dispatch_date</th>\n",
       "      <th>dispatch_time</th>\n",
       "      <th>hour_</th>\n",
       "      <th>dc_key</th>\n",
       "      <th>location_block</th>\n",
       "      <th>ucr_general</th>\n",
       "      <th>text_general_code</th>\n",
       "      <th>point_x</th>\n",
       "      <th>point_y</th>\n",
       "      <th>lat</th>\n",
       "      <th>lng</th>\n",
       "    </tr>\n",
       "  </thead>\n",
       "  <tbody>\n",
       "    <tr>\n",
       "      <th>0</th>\n",
       "      <td>111</td>\n",
       "      <td>2</td>\n",
       "      <td>1</td>\n",
       "      <td>2011-09-08 11:27:00</td>\n",
       "      <td>2011-09-08</td>\n",
       "      <td>11:27:00</td>\n",
       "      <td>11.0</td>\n",
       "      <td>201102059237</td>\n",
       "      <td>5900 BLOCK LORETTO AVE</td>\n",
       "      <td>500</td>\n",
       "      <td>Burglary Residential</td>\n",
       "      <td>-75.084372</td>\n",
       "      <td>40.034867</td>\n",
       "      <td>40.034867</td>\n",
       "      <td>-75.084372</td>\n",
       "    </tr>\n",
       "    <tr>\n",
       "      <th>1</th>\n",
       "      <td>3</td>\n",
       "      <td>14</td>\n",
       "      <td>2</td>\n",
       "      <td>2011-11-10 14:52:00</td>\n",
       "      <td>2011-11-10</td>\n",
       "      <td>14:52:00</td>\n",
       "      <td>14.0</td>\n",
       "      <td>201114083412</td>\n",
       "      <td>300 BLOCK E WALNUT LN</td>\n",
       "      <td>500</td>\n",
       "      <td>Burglary Residential</td>\n",
       "      <td>-75.173378</td>\n",
       "      <td>40.045752</td>\n",
       "      <td>40.045752</td>\n",
       "      <td>-75.173378</td>\n",
       "    </tr>\n",
       "    <tr>\n",
       "      <th>2</th>\n",
       "      <td>41</td>\n",
       "      <td>9</td>\n",
       "      <td>2</td>\n",
       "      <td>2011-06-16 16:23:00</td>\n",
       "      <td>2011-06-16</td>\n",
       "      <td>16:23:00</td>\n",
       "      <td>16.0</td>\n",
       "      <td>201109028302</td>\n",
       "      <td>1400 BLOCK SPRING GARDEN ST</td>\n",
       "      <td>600</td>\n",
       "      <td>Thefts</td>\n",
       "      <td>-75.161446</td>\n",
       "      <td>39.962334</td>\n",
       "      <td>39.962334</td>\n",
       "      <td>-75.161446</td>\n",
       "    </tr>\n",
       "    <tr>\n",
       "      <th>3</th>\n",
       "      <td>56</td>\n",
       "      <td>15</td>\n",
       "      <td>3</td>\n",
       "      <td>2011-07-14 17:37:00</td>\n",
       "      <td>2011-07-14</td>\n",
       "      <td>17:37:00</td>\n",
       "      <td>17.0</td>\n",
       "      <td>201115070879</td>\n",
       "      <td>4400 BLOCK LORING ST</td>\n",
       "      <td>500</td>\n",
       "      <td>Burglary Residential</td>\n",
       "      <td>-75.034084</td>\n",
       "      <td>40.034502</td>\n",
       "      <td>40.034502</td>\n",
       "      <td>-75.034084</td>\n",
       "    </tr>\n",
       "    <tr>\n",
       "      <th>4</th>\n",
       "      <td>100</td>\n",
       "      <td>6</td>\n",
       "      <td>1</td>\n",
       "      <td>2011-06-30 19:18:00</td>\n",
       "      <td>2011-06-30</td>\n",
       "      <td>19:18:00</td>\n",
       "      <td>19.0</td>\n",
       "      <td>201106033293</td>\n",
       "      <td>N 02ND ST / SPRING GARDEN ST</td>\n",
       "      <td>300</td>\n",
       "      <td>Robbery No Firearm</td>\n",
       "      <td>-75.141441</td>\n",
       "      <td>39.960712</td>\n",
       "      <td>39.960712</td>\n",
       "      <td>-75.141441</td>\n",
       "    </tr>\n",
       "  </tbody>\n",
       "</table>\n",
       "</div>"
      ],
      "text/plain": [
       "   objectid  dc_dist psa   dispatch_date_time dispatch_date dispatch_time  \\\n",
       "0       111        2   1  2011-09-08 11:27:00    2011-09-08      11:27:00   \n",
       "1         3       14   2  2011-11-10 14:52:00    2011-11-10      14:52:00   \n",
       "2        41        9   2  2011-06-16 16:23:00    2011-06-16      16:23:00   \n",
       "3        56       15   3  2011-07-14 17:37:00    2011-07-14      17:37:00   \n",
       "4       100        6   1  2011-06-30 19:18:00    2011-06-30      19:18:00   \n",
       "\n",
       "   hour_        dc_key                location_block  ucr_general  \\\n",
       "0   11.0  201102059237        5900 BLOCK LORETTO AVE          500   \n",
       "1   14.0  201114083412         300 BLOCK E WALNUT LN          500   \n",
       "2   16.0  201109028302   1400 BLOCK SPRING GARDEN ST          600   \n",
       "3   17.0  201115070879          4400 BLOCK LORING ST          500   \n",
       "4   19.0  201106033293  N 02ND ST / SPRING GARDEN ST          300   \n",
       "\n",
       "      text_general_code    point_x    point_y        lat        lng  \n",
       "0  Burglary Residential -75.084372  40.034867  40.034867 -75.084372  \n",
       "1  Burglary Residential -75.173378  40.045752  40.045752 -75.173378  \n",
       "2                Thefts -75.161446  39.962334  39.962334 -75.161446  \n",
       "3  Burglary Residential -75.034084  40.034502  40.034502 -75.034084  \n",
       "4    Robbery No Firearm -75.141441  39.960712  39.960712 -75.141441  "
      ]
     },
     "execution_count": 15,
     "metadata": {},
     "output_type": "execute_result"
    }
   ],
   "source": [
    "df.head()"
   ]
  },
  {
   "cell_type": "markdown",
   "id": "9c9f54a1",
   "metadata": {},
   "source": [
    "We'll compare the shape of each individual year's dataframe with the combined dataframe to confirm:"
   ]
  },
  {
   "cell_type": "code",
   "execution_count": 16,
   "id": "615006d5",
   "metadata": {},
   "outputs": [
    {
     "name": "stdout",
     "output_type": "stream",
     "text": [
      "# rows of 2011: 187552\n",
      "# rows of 2012: 186990\n",
      "# rows of 2013: 176790\n",
      "# rows of 2014: 176442\n",
      "# rows of 2015: 174723\n",
      "# rows of 2016: 159882\n",
      "# rows of 2017: 157630\n",
      "# rows of 2018: 153053\n",
      "# rows of 2019: 161439\n",
      "# rows of 2020: 139280\n",
      "Total rows: 1673781\n",
      "# rows of combined dataframe: 1673781\n"
     ]
    }
   ],
   "source": [
    "print('# rows of 2011:', crime_2011.shape[0])\n",
    "print('# rows of 2012:', crime_2012.shape[0])\n",
    "print('# rows of 2013:', crime_2013.shape[0])\n",
    "print('# rows of 2014:', crime_2014.shape[0])\n",
    "print('# rows of 2015:', crime_2015.shape[0])\n",
    "print('# rows of 2016:', crime_2016.shape[0])\n",
    "print('# rows of 2017:', crime_2017.shape[0])\n",
    "print('# rows of 2018:', crime_2018.shape[0])\n",
    "print('# rows of 2019:', crime_2019.shape[0])\n",
    "print('# rows of 2020:', crime_2020.shape[0])\n",
    "\n",
    "total_rows = crime_2011.shape[0] + \\\n",
    "             crime_2012.shape[0] + \\\n",
    "             crime_2013.shape[0] + \\\n",
    "             crime_2014.shape[0] + \\\n",
    "             crime_2015.shape[0] + \\\n",
    "             crime_2016.shape[0] + \\\n",
    "             crime_2017.shape[0] + \\\n",
    "             crime_2018.shape[0] + \\\n",
    "             crime_2019.shape[0] + \\\n",
    "             crime_2020.shape[0]\n",
    "print('Total rows:', total_rows)\n",
    "\n",
    "print('# rows of combined dataframe:', df.shape[0])"
   ]
  },
  {
   "cell_type": "code",
   "execution_count": 17,
   "id": "a38f749d",
   "metadata": {},
   "outputs": [
    {
     "name": "stdout",
     "output_type": "stream",
     "text": [
      "<class 'pandas.core.frame.DataFrame'>\n",
      "RangeIndex: 1673781 entries, 0 to 1673780\n",
      "Data columns (total 15 columns):\n",
      " #   Column              Non-Null Count    Dtype  \n",
      "---  ------              --------------    -----  \n",
      " 0   objectid            1673781 non-null  int64  \n",
      " 1   dc_dist             1673781 non-null  int64  \n",
      " 2   psa                 1673509 non-null  object \n",
      " 3   dispatch_date_time  1673781 non-null  object \n",
      " 4   dispatch_date       1673781 non-null  object \n",
      " 5   dispatch_time       1673781 non-null  object \n",
      " 6   hour_               1673776 non-null  float64\n",
      " 7   dc_key              1673781 non-null  int64  \n",
      " 8   location_block      1673781 non-null  object \n",
      " 9   ucr_general         1673781 non-null  int64  \n",
      " 10  text_general_code   1673781 non-null  object \n",
      " 11  point_x             1673598 non-null  float64\n",
      " 12  point_y             1673598 non-null  float64\n",
      " 13  lat                 1673598 non-null  float64\n",
      " 14  lng                 1673598 non-null  float64\n",
      "dtypes: float64(5), int64(4), object(6)\n",
      "memory usage: 191.5+ MB\n"
     ]
    }
   ],
   "source": [
    "df.info()"
   ]
  },
  {
   "cell_type": "markdown",
   "id": "5b349c16",
   "metadata": {},
   "source": [
    "Taken from https://metadata.phila.gov/#home/datasetdetails/5543868920583086178c4f8e/representationdetails/570e7621c03327dc14f4b68d/?view_287_per_page=25&view_287_page=1\n",
    "here are the definitions of some variables that may be unclear:\n",
    "\n",
    "- <b>dc_dist</b>: A two character field that names the District boundary.\n",
    "- <b>psa</b>: A single character field that names the Police Service Area boundary.\n",
    "- <b>dispatch_date_time</b>: The date and time that the officer was dispatched to the scene.\n",
    "- <b>dispatch_date</b>: Dispatch date formatted as a string\n",
    "- <b>dispatch_time</b>: Dispatch time formatted as a string\n",
    "- <b>hour_</b>: The generalized hour of the dispatched time.\n",
    "- <b>dc_key</b>: The unique identifier of the crime that consists of Year + District + Unique ID.\n",
    "- <b>location_block</b>: The location of crime generalized by street block.\n",
    "- <b>ucr_general</b>: The rounded crime code\n",
    "- <b>text_general_code</b>: The generalized text for the crime code"
   ]
  },
  {
   "cell_type": "code",
   "execution_count": 18,
   "id": "572a411f",
   "metadata": {},
   "outputs": [
    {
     "data": {
      "text/plain": [
       "objectid                0\n",
       "dc_dist                 0\n",
       "psa                   272\n",
       "dispatch_date_time      0\n",
       "dispatch_date           0\n",
       "dispatch_time           0\n",
       "hour_                   5\n",
       "dc_key                  0\n",
       "location_block          0\n",
       "ucr_general             0\n",
       "text_general_code       0\n",
       "point_x               183\n",
       "point_y               183\n",
       "lat                   183\n",
       "lng                   183\n",
       "dtype: int64"
      ]
     },
     "execution_count": 18,
     "metadata": {},
     "output_type": "execute_result"
    }
   ],
   "source": [
    "df.isnull().sum()"
   ]
  },
  {
   "cell_type": "code",
   "execution_count": 19,
   "id": "e34b620f",
   "metadata": {},
   "outputs": [],
   "source": [
    "# convert dates to datetime object\n",
    "df['dispatch_date_time'] = pd.to_datetime(df['dispatch_date_time'])\n",
    "df['dispatch_date'] = pd.to_datetime(df['dispatch_date'])"
   ]
  },
  {
   "cell_type": "code",
   "execution_count": 20,
   "id": "640a6c62",
   "metadata": {
    "scrolled": true
   },
   "outputs": [
    {
     "data": {
      "text/html": [
       "<div>\n",
       "<style scoped>\n",
       "    .dataframe tbody tr th:only-of-type {\n",
       "        vertical-align: middle;\n",
       "    }\n",
       "\n",
       "    .dataframe tbody tr th {\n",
       "        vertical-align: top;\n",
       "    }\n",
       "\n",
       "    .dataframe thead th {\n",
       "        text-align: right;\n",
       "    }\n",
       "</style>\n",
       "<table border=\"1\" class=\"dataframe\">\n",
       "  <thead>\n",
       "    <tr style=\"text-align: right;\">\n",
       "      <th></th>\n",
       "      <th>objectid</th>\n",
       "      <th>dc_dist</th>\n",
       "      <th>psa</th>\n",
       "      <th>dispatch_date_time</th>\n",
       "      <th>dispatch_date</th>\n",
       "      <th>dispatch_time</th>\n",
       "      <th>hour_</th>\n",
       "      <th>dc_key</th>\n",
       "      <th>location_block</th>\n",
       "      <th>ucr_general</th>\n",
       "      <th>text_general_code</th>\n",
       "      <th>point_x</th>\n",
       "      <th>point_y</th>\n",
       "      <th>lat</th>\n",
       "      <th>lng</th>\n",
       "    </tr>\n",
       "  </thead>\n",
       "  <tbody>\n",
       "    <tr>\n",
       "      <th>0</th>\n",
       "      <td>111</td>\n",
       "      <td>2</td>\n",
       "      <td>1</td>\n",
       "      <td>2011-09-08 11:27:00</td>\n",
       "      <td>2011-09-08</td>\n",
       "      <td>11:27:00</td>\n",
       "      <td>11.0</td>\n",
       "      <td>201102059237</td>\n",
       "      <td>5900 BLOCK LORETTO AVE</td>\n",
       "      <td>500</td>\n",
       "      <td>Burglary Residential</td>\n",
       "      <td>-75.084372</td>\n",
       "      <td>40.034867</td>\n",
       "      <td>40.034867</td>\n",
       "      <td>-75.084372</td>\n",
       "    </tr>\n",
       "    <tr>\n",
       "      <th>1</th>\n",
       "      <td>3</td>\n",
       "      <td>14</td>\n",
       "      <td>2</td>\n",
       "      <td>2011-11-10 14:52:00</td>\n",
       "      <td>2011-11-10</td>\n",
       "      <td>14:52:00</td>\n",
       "      <td>14.0</td>\n",
       "      <td>201114083412</td>\n",
       "      <td>300 BLOCK E WALNUT LN</td>\n",
       "      <td>500</td>\n",
       "      <td>Burglary Residential</td>\n",
       "      <td>-75.173378</td>\n",
       "      <td>40.045752</td>\n",
       "      <td>40.045752</td>\n",
       "      <td>-75.173378</td>\n",
       "    </tr>\n",
       "    <tr>\n",
       "      <th>2</th>\n",
       "      <td>41</td>\n",
       "      <td>9</td>\n",
       "      <td>2</td>\n",
       "      <td>2011-06-16 16:23:00</td>\n",
       "      <td>2011-06-16</td>\n",
       "      <td>16:23:00</td>\n",
       "      <td>16.0</td>\n",
       "      <td>201109028302</td>\n",
       "      <td>1400 BLOCK SPRING GARDEN ST</td>\n",
       "      <td>600</td>\n",
       "      <td>Thefts</td>\n",
       "      <td>-75.161446</td>\n",
       "      <td>39.962334</td>\n",
       "      <td>39.962334</td>\n",
       "      <td>-75.161446</td>\n",
       "    </tr>\n",
       "    <tr>\n",
       "      <th>3</th>\n",
       "      <td>56</td>\n",
       "      <td>15</td>\n",
       "      <td>3</td>\n",
       "      <td>2011-07-14 17:37:00</td>\n",
       "      <td>2011-07-14</td>\n",
       "      <td>17:37:00</td>\n",
       "      <td>17.0</td>\n",
       "      <td>201115070879</td>\n",
       "      <td>4400 BLOCK LORING ST</td>\n",
       "      <td>500</td>\n",
       "      <td>Burglary Residential</td>\n",
       "      <td>-75.034084</td>\n",
       "      <td>40.034502</td>\n",
       "      <td>40.034502</td>\n",
       "      <td>-75.034084</td>\n",
       "    </tr>\n",
       "    <tr>\n",
       "      <th>4</th>\n",
       "      <td>100</td>\n",
       "      <td>6</td>\n",
       "      <td>1</td>\n",
       "      <td>2011-06-30 19:18:00</td>\n",
       "      <td>2011-06-30</td>\n",
       "      <td>19:18:00</td>\n",
       "      <td>19.0</td>\n",
       "      <td>201106033293</td>\n",
       "      <td>N 02ND ST / SPRING GARDEN ST</td>\n",
       "      <td>300</td>\n",
       "      <td>Robbery No Firearm</td>\n",
       "      <td>-75.141441</td>\n",
       "      <td>39.960712</td>\n",
       "      <td>39.960712</td>\n",
       "      <td>-75.141441</td>\n",
       "    </tr>\n",
       "  </tbody>\n",
       "</table>\n",
       "</div>"
      ],
      "text/plain": [
       "   objectid  dc_dist psa  dispatch_date_time dispatch_date dispatch_time  \\\n",
       "0       111        2   1 2011-09-08 11:27:00    2011-09-08      11:27:00   \n",
       "1         3       14   2 2011-11-10 14:52:00    2011-11-10      14:52:00   \n",
       "2        41        9   2 2011-06-16 16:23:00    2011-06-16      16:23:00   \n",
       "3        56       15   3 2011-07-14 17:37:00    2011-07-14      17:37:00   \n",
       "4       100        6   1 2011-06-30 19:18:00    2011-06-30      19:18:00   \n",
       "\n",
       "   hour_        dc_key                location_block  ucr_general  \\\n",
       "0   11.0  201102059237        5900 BLOCK LORETTO AVE          500   \n",
       "1   14.0  201114083412         300 BLOCK E WALNUT LN          500   \n",
       "2   16.0  201109028302   1400 BLOCK SPRING GARDEN ST          600   \n",
       "3   17.0  201115070879          4400 BLOCK LORING ST          500   \n",
       "4   19.0  201106033293  N 02ND ST / SPRING GARDEN ST          300   \n",
       "\n",
       "      text_general_code    point_x    point_y        lat        lng  \n",
       "0  Burglary Residential -75.084372  40.034867  40.034867 -75.084372  \n",
       "1  Burglary Residential -75.173378  40.045752  40.045752 -75.173378  \n",
       "2                Thefts -75.161446  39.962334  39.962334 -75.161446  \n",
       "3  Burglary Residential -75.034084  40.034502  40.034502 -75.034084  \n",
       "4    Robbery No Firearm -75.141441  39.960712  39.960712 -75.141441  "
      ]
     },
     "execution_count": 20,
     "metadata": {},
     "output_type": "execute_result"
    }
   ],
   "source": [
    "df.head()"
   ]
  },
  {
   "cell_type": "code",
   "execution_count": 21,
   "id": "ead61846",
   "metadata": {},
   "outputs": [
    {
     "name": "stdout",
     "output_type": "stream",
     "text": [
      "<class 'pandas.core.frame.DataFrame'>\n",
      "RangeIndex: 1673781 entries, 0 to 1673780\n",
      "Data columns (total 15 columns):\n",
      " #   Column              Non-Null Count    Dtype         \n",
      "---  ------              --------------    -----         \n",
      " 0   objectid            1673781 non-null  int64         \n",
      " 1   dc_dist             1673781 non-null  int64         \n",
      " 2   psa                 1673509 non-null  object        \n",
      " 3   dispatch_date_time  1673781 non-null  datetime64[ns]\n",
      " 4   dispatch_date       1673781 non-null  datetime64[ns]\n",
      " 5   dispatch_time       1673781 non-null  object        \n",
      " 6   hour_               1673776 non-null  float64       \n",
      " 7   dc_key              1673781 non-null  int64         \n",
      " 8   location_block      1673781 non-null  object        \n",
      " 9   ucr_general         1673781 non-null  int64         \n",
      " 10  text_general_code   1673781 non-null  object        \n",
      " 11  point_x             1673598 non-null  float64       \n",
      " 12  point_y             1673598 non-null  float64       \n",
      " 13  lat                 1673598 non-null  float64       \n",
      " 14  lng                 1673598 non-null  float64       \n",
      "dtypes: datetime64[ns](2), float64(5), int64(4), object(4)\n",
      "memory usage: 191.5+ MB\n"
     ]
    }
   ],
   "source": [
    "df.info()"
   ]
  },
  {
   "cell_type": "markdown",
   "id": "24416767",
   "metadata": {},
   "source": [
    "### 1. What type of crime is most common in Philadelphia?"
   ]
  },
  {
   "cell_type": "code",
   "execution_count": 22,
   "id": "dfbb86cc",
   "metadata": {},
   "outputs": [
    {
     "data": {
      "text/plain": [
       "text_general_code\n",
       "All Other Offenses             323740\n",
       "Other Assaults                 236778\n",
       "Thefts                         231286\n",
       "Vandalism/Criminal Mischief    153002\n",
       "Theft from Vehicle             134854\n",
       "Name: dc_key, dtype: int64"
      ]
     },
     "execution_count": 22,
     "metadata": {},
     "output_type": "execute_result"
    }
   ],
   "source": [
    "crime_types = df.groupby('text_general_code')['dc_key'].count().sort_values(ascending=False)\n",
    "crime_types.head()"
   ]
  },
  {
   "cell_type": "code",
   "execution_count": 23,
   "id": "f63e0a58",
   "metadata": {},
   "outputs": [
    {
     "data": {
      "text/plain": [
       "<AxesSubplot:xlabel='dc_key', ylabel='text_general_code'>"
      ]
     },
     "execution_count": 23,
     "metadata": {},
     "output_type": "execute_result"
    },
    {
     "data": {
      "image/png": "[encoded data removed]",
      "text/plain": [
       "<Figure size 360x720 with 1 Axes>"
      ]
     },
     "metadata": {
      "needs_background": "light"
     },
     "output_type": "display_data"
    }
   ],
   "source": [
    "fig, ax = plt.subplots(figsize=(5,10))\n",
    "sns.barplot(x=crime_types, y=crime_types.index, orient='h', ax = ax, color = 'maroon')"
   ]
  },
  {
   "cell_type": "markdown",
   "id": "01a5402d",
   "metadata": {},
   "source": [
    "### 2. What time of day are certain crimes more likely to occur?"
   ]
  },
  {
   "cell_type": "markdown",
   "id": "bd53f603",
   "metadata": {},
   "source": [
    "Let's first get a count of total crimes by hour.\n",
    "\n",
    "line plot of time of day, multiple lines for different types of crime"
   ]
  },
  {
   "cell_type": "code",
   "execution_count": 24,
   "id": "5018775d",
   "metadata": {},
   "outputs": [
    {
     "data": {
      "text/plain": [
       "hour_\n",
       "0.0      71186\n",
       "1.0      56022\n",
       "2.0      41547\n",
       "3.0      29725\n",
       "4.0      19819\n",
       "5.0      15722\n",
       "6.0      14686\n",
       "7.0      29854\n",
       "8.0      58820\n",
       "9.0      76186\n",
       "10.0     86329\n",
       "11.0     92908\n",
       "12.0     92620\n",
       "13.0     90869\n",
       "14.0     75147\n",
       "15.0     85495\n",
       "16.0    109045\n",
       "17.0    103727\n",
       "18.0     96490\n",
       "19.0     95732\n",
       "20.0     91112\n",
       "21.0     86094\n",
       "22.0     80332\n",
       "23.0     74309\n",
       "Name: dc_key, dtype: int64"
      ]
     },
     "execution_count": 24,
     "metadata": {},
     "output_type": "execute_result"
    }
   ],
   "source": [
    "hour_count = df.groupby('hour_')['dc_key'].count()\n",
    "hour_count"
   ]
  },
  {
   "cell_type": "code",
   "execution_count": 25,
   "id": "862e7c87",
   "metadata": {},
   "outputs": [
    {
     "data": {
      "text/plain": [
       "<AxesSubplot:xlabel='hour_', ylabel='dc_key'>"
      ]
     },
     "execution_count": 25,
     "metadata": {},
     "output_type": "execute_result"
    },
    {
     "data": {
      "image/png": "[encoded data removed]",
      "text/plain": [
       "<Figure size 432x288 with 1 Axes>"
      ]
     },
     "metadata": {
      "needs_background": "light"
     },
     "output_type": "display_data"
    }
   ],
   "source": [
    "sns.lineplot(x = hour_count.index, y = hour_count)"
   ]
  },
  {
   "cell_type": "markdown",
   "id": "8f3c6344",
   "metadata": {},
   "source": [
    "The least amount of crime happens during the early morning hours, from 4-7 AM. \n",
    "\n",
    "The highest amount of crime takes place from 9 AM - 1 AM, with a peak at 4 PM."
   ]
  },
  {
   "cell_type": "markdown",
   "id": "68965ecb",
   "metadata": {},
   "source": [
    "Here, we will take a look at the top five crimes broken down by hour."
   ]
  },
  {
   "cell_type": "code",
   "execution_count": 26,
   "id": "5b992f5a",
   "metadata": {},
   "outputs": [],
   "source": [
    "top_crime_cats = ['All Other Offenses', 'Other Assaults', 'Thefts', 'Vandalism/Criminal Mischief', 'Theft from Vehicle']"
   ]
  },
  {
   "cell_type": "code",
   "execution_count": 27,
   "id": "72e40011",
   "metadata": {},
   "outputs": [
    {
     "data": {
      "text/plain": [
       "<AxesSubplot:xlabel='hour_'>"
      ]
     },
     "execution_count": 27,
     "metadata": {},
     "output_type": "execute_result"
    },
    {
     "data": {
      "image/png": "[encoded data removed]",
      "text/plain": [
       "<Figure size 1080x504 with 1 Axes>"
      ]
     },
     "metadata": {
      "needs_background": "light"
     },
     "output_type": "display_data"
    }
   ],
   "source": [
    "# plot data\n",
    "fig, ax = plt.subplots(figsize=(15,7))\n",
    "# use unstack()\n",
    "df[df['text_general_code'].isin(top_crime_cats)].groupby(['hour_','text_general_code']).count()['dc_key'].unstack().plot(ax=ax)"
   ]
  },
  {
   "cell_type": "markdown",
   "id": "ae70163d",
   "metadata": {},
   "source": [
    "Interestingly enough, while other crimes seem to decrease from 8 PM to 12 AM, crimes categorized by \"All Other Offenses\" is the only type of crime (out of the top five) that increases in frequency during that time period."
   ]
  },
  {
   "cell_type": "markdown",
   "id": "1d9a3999",
   "metadata": {},
   "source": [
    "## 3. Over the course of the ten year time frame, how has crime changed?\n",
    "a) Which crimes have become less common?\n",
    "\n",
    "b) Which crimes have become more common?"
   ]
  },
  {
   "cell_type": "markdown",
   "id": "d84c182c",
   "metadata": {},
   "source": [
    "We'll start by counting the number of crimes grouped by date and construct a time series graph."
   ]
  },
  {
   "cell_type": "code",
   "execution_count": 28,
   "id": "734aa859",
   "metadata": {},
   "outputs": [
    {
     "data": {
      "text/plain": [
       "dispatch_date\n",
       "2011-01-01    447\n",
       "2011-01-02    422\n",
       "2011-01-03    491\n",
       "2011-01-04    515\n",
       "2011-01-05    556\n",
       "             ... \n",
       "2020-12-27    290\n",
       "2020-12-28    402\n",
       "2020-12-29    377\n",
       "2020-12-30    394\n",
       "2020-12-31    315\n",
       "Name: dc_key, Length: 3653, dtype: int64"
      ]
     },
     "execution_count": 28,
     "metadata": {},
     "output_type": "execute_result"
    }
   ],
   "source": [
    "date_count = df.groupby('dispatch_date')['dc_key'].count()\n",
    "date_count"
   ]
  },
  {
   "cell_type": "code",
   "execution_count": 29,
   "id": "728803b6",
   "metadata": {
    "scrolled": false
   },
   "outputs": [
    {
     "data": {
      "image/png": "[encoded data removed]",
      "text/plain": [
       "<Figure size 1440x360 with 1 Axes>"
      ]
     },
     "metadata": {
      "needs_background": "light"
     },
     "output_type": "display_data"
    }
   ],
   "source": [
    "fig, ax = plt.subplots(figsize=(20,5))\n",
    "ax.xaxis.set_major_locator(mdates.MonthLocator(bymonth=(1, 7)))\n",
    "ax.xaxis.set_minor_locator(mdates.MonthLocator())\n",
    "ax.grid(True)\n",
    "sns.lineplot(x = date_count.index, y = date_count, ax = ax)\n",
    "date_form = DateFormatter(\"%m-%y\")\n",
    "ax.xaxis.set_major_formatter(date_form)\n",
    "plt.show()"
   ]
  },
  {
   "cell_type": "markdown",
   "id": "d3d7ba02",
   "metadata": {},
   "source": [
    "From this graph, we can see that crime rates are slowly decreasing over the past 10 years.  Interestingly enough, there are two dates in 2020 that seem to have spikes in crime.  We will identify which dates those are and investigate further later on."
   ]
  },
  {
   "cell_type": "markdown",
   "id": "301c1ee5",
   "metadata": {},
   "source": [
    "Let's extract the year_month to see a slightly different visualization."
   ]
  },
  {
   "cell_type": "code",
   "execution_count": 30,
   "id": "37d3399e",
   "metadata": {},
   "outputs": [
    {
     "data": {
      "text/html": [
       "<div>\n",
       "<style scoped>\n",
       "    .dataframe tbody tr th:only-of-type {\n",
       "        vertical-align: middle;\n",
       "    }\n",
       "\n",
       "    .dataframe tbody tr th {\n",
       "        vertical-align: top;\n",
       "    }\n",
       "\n",
       "    .dataframe thead th {\n",
       "        text-align: right;\n",
       "    }\n",
       "</style>\n",
       "<table border=\"1\" class=\"dataframe\">\n",
       "  <thead>\n",
       "    <tr style=\"text-align: right;\">\n",
       "      <th></th>\n",
       "      <th>objectid</th>\n",
       "      <th>dc_dist</th>\n",
       "      <th>psa</th>\n",
       "      <th>dispatch_date_time</th>\n",
       "      <th>dispatch_date</th>\n",
       "      <th>dispatch_time</th>\n",
       "      <th>hour_</th>\n",
       "      <th>dc_key</th>\n",
       "      <th>location_block</th>\n",
       "      <th>ucr_general</th>\n",
       "      <th>text_general_code</th>\n",
       "      <th>point_x</th>\n",
       "      <th>point_y</th>\n",
       "      <th>lat</th>\n",
       "      <th>lng</th>\n",
       "      <th>year_month</th>\n",
       "    </tr>\n",
       "  </thead>\n",
       "  <tbody>\n",
       "    <tr>\n",
       "      <th>0</th>\n",
       "      <td>111</td>\n",
       "      <td>2</td>\n",
       "      <td>1</td>\n",
       "      <td>2011-09-08 11:27:00</td>\n",
       "      <td>2011-09-08</td>\n",
       "      <td>11:27:00</td>\n",
       "      <td>11.0</td>\n",
       "      <td>201102059237</td>\n",
       "      <td>5900 BLOCK LORETTO AVE</td>\n",
       "      <td>500</td>\n",
       "      <td>Burglary Residential</td>\n",
       "      <td>-75.084372</td>\n",
       "      <td>40.034867</td>\n",
       "      <td>40.034867</td>\n",
       "      <td>-75.084372</td>\n",
       "      <td>2011-09</td>\n",
       "    </tr>\n",
       "    <tr>\n",
       "      <th>1</th>\n",
       "      <td>3</td>\n",
       "      <td>14</td>\n",
       "      <td>2</td>\n",
       "      <td>2011-11-10 14:52:00</td>\n",
       "      <td>2011-11-10</td>\n",
       "      <td>14:52:00</td>\n",
       "      <td>14.0</td>\n",
       "      <td>201114083412</td>\n",
       "      <td>300 BLOCK E WALNUT LN</td>\n",
       "      <td>500</td>\n",
       "      <td>Burglary Residential</td>\n",
       "      <td>-75.173378</td>\n",
       "      <td>40.045752</td>\n",
       "      <td>40.045752</td>\n",
       "      <td>-75.173378</td>\n",
       "      <td>2011-11</td>\n",
       "    </tr>\n",
       "    <tr>\n",
       "      <th>2</th>\n",
       "      <td>41</td>\n",
       "      <td>9</td>\n",
       "      <td>2</td>\n",
       "      <td>2011-06-16 16:23:00</td>\n",
       "      <td>2011-06-16</td>\n",
       "      <td>16:23:00</td>\n",
       "      <td>16.0</td>\n",
       "      <td>201109028302</td>\n",
       "      <td>1400 BLOCK SPRING GARDEN ST</td>\n",
       "      <td>600</td>\n",
       "      <td>Thefts</td>\n",
       "      <td>-75.161446</td>\n",
       "      <td>39.962334</td>\n",
       "      <td>39.962334</td>\n",
       "      <td>-75.161446</td>\n",
       "      <td>2011-06</td>\n",
       "    </tr>\n",
       "    <tr>\n",
       "      <th>3</th>\n",
       "      <td>56</td>\n",
       "      <td>15</td>\n",
       "      <td>3</td>\n",
       "      <td>2011-07-14 17:37:00</td>\n",
       "      <td>2011-07-14</td>\n",
       "      <td>17:37:00</td>\n",
       "      <td>17.0</td>\n",
       "      <td>201115070879</td>\n",
       "      <td>4400 BLOCK LORING ST</td>\n",
       "      <td>500</td>\n",
       "      <td>Burglary Residential</td>\n",
       "      <td>-75.034084</td>\n",
       "      <td>40.034502</td>\n",
       "      <td>40.034502</td>\n",
       "      <td>-75.034084</td>\n",
       "      <td>2011-07</td>\n",
       "    </tr>\n",
       "    <tr>\n",
       "      <th>4</th>\n",
       "      <td>100</td>\n",
       "      <td>6</td>\n",
       "      <td>1</td>\n",
       "      <td>2011-06-30 19:18:00</td>\n",
       "      <td>2011-06-30</td>\n",
       "      <td>19:18:00</td>\n",
       "      <td>19.0</td>\n",
       "      <td>201106033293</td>\n",
       "      <td>N 02ND ST / SPRING GARDEN ST</td>\n",
       "      <td>300</td>\n",
       "      <td>Robbery No Firearm</td>\n",
       "      <td>-75.141441</td>\n",
       "      <td>39.960712</td>\n",
       "      <td>39.960712</td>\n",
       "      <td>-75.141441</td>\n",
       "      <td>2011-06</td>\n",
       "    </tr>\n",
       "  </tbody>\n",
       "</table>\n",
       "</div>"
      ],
      "text/plain": [
       "   objectid  dc_dist psa  dispatch_date_time dispatch_date dispatch_time  \\\n",
       "0       111        2   1 2011-09-08 11:27:00    2011-09-08      11:27:00   \n",
       "1         3       14   2 2011-11-10 14:52:00    2011-11-10      14:52:00   \n",
       "2        41        9   2 2011-06-16 16:23:00    2011-06-16      16:23:00   \n",
       "3        56       15   3 2011-07-14 17:37:00    2011-07-14      17:37:00   \n",
       "4       100        6   1 2011-06-30 19:18:00    2011-06-30      19:18:00   \n",
       "\n",
       "   hour_        dc_key                location_block  ucr_general  \\\n",
       "0   11.0  201102059237        5900 BLOCK LORETTO AVE          500   \n",
       "1   14.0  201114083412         300 BLOCK E WALNUT LN          500   \n",
       "2   16.0  201109028302   1400 BLOCK SPRING GARDEN ST          600   \n",
       "3   17.0  201115070879          4400 BLOCK LORING ST          500   \n",
       "4   19.0  201106033293  N 02ND ST / SPRING GARDEN ST          300   \n",
       "\n",
       "      text_general_code    point_x    point_y        lat        lng year_month  \n",
       "0  Burglary Residential -75.084372  40.034867  40.034867 -75.084372    2011-09  \n",
       "1  Burglary Residential -75.173378  40.045752  40.045752 -75.173378    2011-11  \n",
       "2                Thefts -75.161446  39.962334  39.962334 -75.161446    2011-06  \n",
       "3  Burglary Residential -75.034084  40.034502  40.034502 -75.034084    2011-07  \n",
       "4    Robbery No Firearm -75.141441  39.960712  39.960712 -75.141441    2011-06  "
      ]
     },
     "execution_count": 30,
     "metadata": {},
     "output_type": "execute_result"
    }
   ],
   "source": [
    "df['year_month'] = pd.to_datetime(df['dispatch_date']).dt.to_period('M')\n",
    "df.head()"
   ]
  },
  {
   "cell_type": "code",
   "execution_count": 31,
   "id": "2b1c905d",
   "metadata": {},
   "outputs": [
    {
     "name": "stdout",
     "output_type": "stream",
     "text": [
      "<class 'pandas.core.frame.DataFrame'>\n",
      "RangeIndex: 1673781 entries, 0 to 1673780\n",
      "Data columns (total 16 columns):\n",
      " #   Column              Non-Null Count    Dtype         \n",
      "---  ------              --------------    -----         \n",
      " 0   objectid            1673781 non-null  int64         \n",
      " 1   dc_dist             1673781 non-null  int64         \n",
      " 2   psa                 1673509 non-null  object        \n",
      " 3   dispatch_date_time  1673781 non-null  datetime64[ns]\n",
      " 4   dispatch_date       1673781 non-null  datetime64[ns]\n",
      " 5   dispatch_time       1673781 non-null  object        \n",
      " 6   hour_               1673776 non-null  float64       \n",
      " 7   dc_key              1673781 non-null  int64         \n",
      " 8   location_block      1673781 non-null  object        \n",
      " 9   ucr_general         1673781 non-null  int64         \n",
      " 10  text_general_code   1673781 non-null  object        \n",
      " 11  point_x             1673598 non-null  float64       \n",
      " 12  point_y             1673598 non-null  float64       \n",
      " 13  lat                 1673598 non-null  float64       \n",
      " 14  lng                 1673598 non-null  float64       \n",
      " 15  year_month          1673781 non-null  period[M]     \n",
      "dtypes: datetime64[ns](2), float64(5), int64(4), object(4), period[M](1)\n",
      "memory usage: 204.3+ MB\n"
     ]
    }
   ],
   "source": [
    "df.info()"
   ]
  },
  {
   "cell_type": "code",
   "execution_count": 32,
   "id": "f4849a95",
   "metadata": {},
   "outputs": [],
   "source": [
    "df['year_month'] = df['year_month'].astype(str)"
   ]
  },
  {
   "cell_type": "code",
   "execution_count": 33,
   "id": "576d8682",
   "metadata": {},
   "outputs": [
    {
     "name": "stdout",
     "output_type": "stream",
     "text": [
      "<class 'pandas.core.frame.DataFrame'>\n",
      "RangeIndex: 1673781 entries, 0 to 1673780\n",
      "Data columns (total 16 columns):\n",
      " #   Column              Non-Null Count    Dtype         \n",
      "---  ------              --------------    -----         \n",
      " 0   objectid            1673781 non-null  int64         \n",
      " 1   dc_dist             1673781 non-null  int64         \n",
      " 2   psa                 1673509 non-null  object        \n",
      " 3   dispatch_date_time  1673781 non-null  datetime64[ns]\n",
      " 4   dispatch_date       1673781 non-null  datetime64[ns]\n",
      " 5   dispatch_time       1673781 non-null  object        \n",
      " 6   hour_               1673776 non-null  float64       \n",
      " 7   dc_key              1673781 non-null  int64         \n",
      " 8   location_block      1673781 non-null  object        \n",
      " 9   ucr_general         1673781 non-null  int64         \n",
      " 10  text_general_code   1673781 non-null  object        \n",
      " 11  point_x             1673598 non-null  float64       \n",
      " 12  point_y             1673598 non-null  float64       \n",
      " 13  lat                 1673598 non-null  float64       \n",
      " 14  lng                 1673598 non-null  float64       \n",
      " 15  year_month          1673781 non-null  object        \n",
      "dtypes: datetime64[ns](2), float64(5), int64(4), object(5)\n",
      "memory usage: 204.3+ MB\n"
     ]
    }
   ],
   "source": [
    "df.info()"
   ]
  },
  {
   "cell_type": "code",
   "execution_count": 34,
   "id": "a1f75c63",
   "metadata": {},
   "outputs": [
    {
     "data": {
      "text/plain": [
       "year_month\n",
       "2011-01    13131\n",
       "2011-02    13226\n",
       "2011-03    16034\n",
       "2011-04    16254\n",
       "2011-05    16722\n",
       "           ...  \n",
       "2020-08    11419\n",
       "2020-09    11704\n",
       "2020-10    13175\n",
       "2020-11    10616\n",
       "2020-12    10847\n",
       "Name: dc_key, Length: 120, dtype: int64"
      ]
     },
     "execution_count": 34,
     "metadata": {},
     "output_type": "execute_result"
    }
   ],
   "source": [
    "year_month_count = df.groupby('year_month')['dc_key'].count()\n",
    "year_month_count"
   ]
  },
  {
   "cell_type": "code",
   "execution_count": 35,
   "id": "18e47799",
   "metadata": {
    "scrolled": true
   },
   "outputs": [
    {
     "data": {
      "image/png": "[encoded data removed]",
      "text/plain": [
       "<Figure size 1440x360 with 1 Axes>"
      ]
     },
     "metadata": {
      "needs_background": "light"
     },
     "output_type": "display_data"
    }
   ],
   "source": [
    "fig, ax = plt.subplots(figsize=(20,5))\n",
    "\n",
    "sns.lineplot(x = year_month_count.index, y = year_month_count, ax = ax)\n",
    "\n",
    "plt.show()"
   ]
  },
  {
   "cell_type": "code",
   "execution_count": 36,
   "id": "54684376",
   "metadata": {
    "scrolled": true
   },
   "outputs": [
    {
     "data": {
      "text/html": [
       "<div>\n",
       "<style scoped>\n",
       "    .dataframe tbody tr th:only-of-type {\n",
       "        vertical-align: middle;\n",
       "    }\n",
       "\n",
       "    .dataframe tbody tr th {\n",
       "        vertical-align: top;\n",
       "    }\n",
       "\n",
       "    .dataframe thead th {\n",
       "        text-align: right;\n",
       "    }\n",
       "</style>\n",
       "<table border=\"1\" class=\"dataframe\">\n",
       "  <thead>\n",
       "    <tr style=\"text-align: right;\">\n",
       "      <th></th>\n",
       "      <th>objectid</th>\n",
       "      <th>dc_dist</th>\n",
       "      <th>psa</th>\n",
       "      <th>dispatch_date_time</th>\n",
       "      <th>dispatch_date</th>\n",
       "      <th>dispatch_time</th>\n",
       "      <th>hour_</th>\n",
       "      <th>dc_key</th>\n",
       "      <th>location_block</th>\n",
       "      <th>ucr_general</th>\n",
       "      <th>text_general_code</th>\n",
       "      <th>point_x</th>\n",
       "      <th>point_y</th>\n",
       "      <th>lat</th>\n",
       "      <th>lng</th>\n",
       "      <th>year_month</th>\n",
       "      <th>year</th>\n",
       "      <th>month</th>\n",
       "    </tr>\n",
       "  </thead>\n",
       "  <tbody>\n",
       "    <tr>\n",
       "      <th>0</th>\n",
       "      <td>111</td>\n",
       "      <td>2</td>\n",
       "      <td>1</td>\n",
       "      <td>2011-09-08 11:27:00</td>\n",
       "      <td>2011-09-08</td>\n",
       "      <td>11:27:00</td>\n",
       "      <td>11.0</td>\n",
       "      <td>201102059237</td>\n",
       "      <td>5900 BLOCK LORETTO AVE</td>\n",
       "      <td>500</td>\n",
       "      <td>Burglary Residential</td>\n",
       "      <td>-75.084372</td>\n",
       "      <td>40.034867</td>\n",
       "      <td>40.034867</td>\n",
       "      <td>-75.084372</td>\n",
       "      <td>2011-09</td>\n",
       "      <td>2011</td>\n",
       "      <td>9</td>\n",
       "    </tr>\n",
       "    <tr>\n",
       "      <th>1</th>\n",
       "      <td>3</td>\n",
       "      <td>14</td>\n",
       "      <td>2</td>\n",
       "      <td>2011-11-10 14:52:00</td>\n",
       "      <td>2011-11-10</td>\n",
       "      <td>14:52:00</td>\n",
       "      <td>14.0</td>\n",
       "      <td>201114083412</td>\n",
       "      <td>300 BLOCK E WALNUT LN</td>\n",
       "      <td>500</td>\n",
       "      <td>Burglary Residential</td>\n",
       "      <td>-75.173378</td>\n",
       "      <td>40.045752</td>\n",
       "      <td>40.045752</td>\n",
       "      <td>-75.173378</td>\n",
       "      <td>2011-11</td>\n",
       "      <td>2011</td>\n",
       "      <td>11</td>\n",
       "    </tr>\n",
       "    <tr>\n",
       "      <th>2</th>\n",
       "      <td>41</td>\n",
       "      <td>9</td>\n",
       "      <td>2</td>\n",
       "      <td>2011-06-16 16:23:00</td>\n",
       "      <td>2011-06-16</td>\n",
       "      <td>16:23:00</td>\n",
       "      <td>16.0</td>\n",
       "      <td>201109028302</td>\n",
       "      <td>1400 BLOCK SPRING GARDEN ST</td>\n",
       "      <td>600</td>\n",
       "      <td>Thefts</td>\n",
       "      <td>-75.161446</td>\n",
       "      <td>39.962334</td>\n",
       "      <td>39.962334</td>\n",
       "      <td>-75.161446</td>\n",
       "      <td>2011-06</td>\n",
       "      <td>2011</td>\n",
       "      <td>6</td>\n",
       "    </tr>\n",
       "    <tr>\n",
       "      <th>3</th>\n",
       "      <td>56</td>\n",
       "      <td>15</td>\n",
       "      <td>3</td>\n",
       "      <td>2011-07-14 17:37:00</td>\n",
       "      <td>2011-07-14</td>\n",
       "      <td>17:37:00</td>\n",
       "      <td>17.0</td>\n",
       "      <td>201115070879</td>\n",
       "      <td>4400 BLOCK LORING ST</td>\n",
       "      <td>500</td>\n",
       "      <td>Burglary Residential</td>\n",
       "      <td>-75.034084</td>\n",
       "      <td>40.034502</td>\n",
       "      <td>40.034502</td>\n",
       "      <td>-75.034084</td>\n",
       "      <td>2011-07</td>\n",
       "      <td>2011</td>\n",
       "      <td>7</td>\n",
       "    </tr>\n",
       "    <tr>\n",
       "      <th>4</th>\n",
       "      <td>100</td>\n",
       "      <td>6</td>\n",
       "      <td>1</td>\n",
       "      <td>2011-06-30 19:18:00</td>\n",
       "      <td>2011-06-30</td>\n",
       "      <td>19:18:00</td>\n",
       "      <td>19.0</td>\n",
       "      <td>201106033293</td>\n",
       "      <td>N 02ND ST / SPRING GARDEN ST</td>\n",
       "      <td>300</td>\n",
       "      <td>Robbery No Firearm</td>\n",
       "      <td>-75.141441</td>\n",
       "      <td>39.960712</td>\n",
       "      <td>39.960712</td>\n",
       "      <td>-75.141441</td>\n",
       "      <td>2011-06</td>\n",
       "      <td>2011</td>\n",
       "      <td>6</td>\n",
       "    </tr>\n",
       "  </tbody>\n",
       "</table>\n",
       "</div>"
      ],
      "text/plain": [
       "   objectid  dc_dist psa  dispatch_date_time dispatch_date dispatch_time  \\\n",
       "0       111        2   1 2011-09-08 11:27:00    2011-09-08      11:27:00   \n",
       "1         3       14   2 2011-11-10 14:52:00    2011-11-10      14:52:00   \n",
       "2        41        9   2 2011-06-16 16:23:00    2011-06-16      16:23:00   \n",
       "3        56       15   3 2011-07-14 17:37:00    2011-07-14      17:37:00   \n",
       "4       100        6   1 2011-06-30 19:18:00    2011-06-30      19:18:00   \n",
       "\n",
       "   hour_        dc_key                location_block  ucr_general  \\\n",
       "0   11.0  201102059237        5900 BLOCK LORETTO AVE          500   \n",
       "1   14.0  201114083412         300 BLOCK E WALNUT LN          500   \n",
       "2   16.0  201109028302   1400 BLOCK SPRING GARDEN ST          600   \n",
       "3   17.0  201115070879          4400 BLOCK LORING ST          500   \n",
       "4   19.0  201106033293  N 02ND ST / SPRING GARDEN ST          300   \n",
       "\n",
       "      text_general_code    point_x    point_y        lat        lng  \\\n",
       "0  Burglary Residential -75.084372  40.034867  40.034867 -75.084372   \n",
       "1  Burglary Residential -75.173378  40.045752  40.045752 -75.173378   \n",
       "2                Thefts -75.161446  39.962334  39.962334 -75.161446   \n",
       "3  Burglary Residential -75.034084  40.034502  40.034502 -75.034084   \n",
       "4    Robbery No Firearm -75.141441  39.960712  39.960712 -75.141441   \n",
       "\n",
       "  year_month  year  month  \n",
       "0    2011-09  2011      9  \n",
       "1    2011-11  2011     11  \n",
       "2    2011-06  2011      6  \n",
       "3    2011-07  2011      7  \n",
       "4    2011-06  2011      6  "
      ]
     },
     "execution_count": 36,
     "metadata": {},
     "output_type": "execute_result"
    }
   ],
   "source": [
    "df['year'] = df['dispatch_date'].dt.year\n",
    "df['month'] = df['dispatch_date'].dt.month\n",
    "df.head()"
   ]
  },
  {
   "cell_type": "markdown",
   "id": "5cc67a6e",
   "metadata": {},
   "source": [
    "Let's look at the number of crimes within each year for all of the 10 years."
   ]
  },
  {
   "cell_type": "code",
   "execution_count": 37,
   "id": "f339b6ca",
   "metadata": {},
   "outputs": [
    {
     "data": {
      "image/png": "[encoded data removed]",
      "text/plain": [
       "<Figure size 1080x504 with 1 Axes>"
      ]
     },
     "metadata": {
      "needs_background": "light"
     },
     "output_type": "display_data"
    }
   ],
   "source": [
    "# plot data\n",
    "fig, ax = plt.subplots(figsize=(15,7))\n",
    "# use unstack()\n",
    "df.groupby(['month','year']).count()['dc_key'].unstack().plot(ax=ax)\n",
    "plt.show()"
   ]
  },
  {
   "cell_type": "markdown",
   "id": "df49ea8f",
   "metadata": {},
   "source": [
    "In general, there seems to be a seasonality to crime, with the highest numbers taking place during warmer months (June, July, August) and the lowest numbers taking place during colder months (December, January, February).\n",
    "\n",
    "In most years, crime rates pick up again starting in March. Interestingly enough, for the year 2020, crime rates severely decreased in March and April.  Most likely, this is due to the city-wide lockdown to prevent the spread of COVID-19."
   ]
  },
  {
   "cell_type": "markdown",
   "id": "5194124f",
   "metadata": {},
   "source": [
    "## 4. Which days have the highest number of of crimes? The lowest number of crimes?"
   ]
  },
  {
   "cell_type": "code",
   "execution_count": 38,
   "id": "1a94c5ac",
   "metadata": {},
   "outputs": [
    {
     "data": {
      "text/plain": [
       "dispatch_date\n",
       "2020-06-01    901\n",
       "2020-10-27    824\n",
       "2014-05-28    708\n",
       "2011-05-03    707\n",
       "2011-06-29    705\n",
       "Name: dc_key, dtype: int64"
      ]
     },
     "execution_count": 38,
     "metadata": {},
     "output_type": "execute_result"
    }
   ],
   "source": [
    "date_count.nlargest(5)"
   ]
  },
  {
   "cell_type": "code",
   "execution_count": 39,
   "id": "8115175d",
   "metadata": {},
   "outputs": [
    {
     "data": {
      "text/plain": [
       "Burglary Non-Residential                   420\n",
       "Vandalism/Criminal Mischief                143\n",
       "All Other Offenses                          70\n",
       "Other Assaults                              38\n",
       "Motor Vehicle Theft                         36\n",
       "Theft from Vehicle                          26\n",
       "Aggravated Assault No Firearm               24\n",
       "Aggravated Assault Firearm                  22\n",
       "Thefts                                      21\n",
       "Weapon Violations                           16\n",
       "Fraud                                       14\n",
       "Recovered Stolen Motor Vehicle              14\n",
       "Robbery No Firearm                          10\n",
       "Arson                                        9\n",
       "Robbery Firearm                              9\n",
       "Burglary Residential                         7\n",
       "Disorderly Conduct                           6\n",
       "Homicide - Criminal                          5\n",
       "DRIVING UNDER THE INFLUENCE                  4\n",
       "Narcotic / Drug Law Violations               3\n",
       "Rape                                         2\n",
       "Other Sex Offenses (Not Commercialized)      1\n",
       "Receiving Stolen Property                    1\n",
       "Name: text_general_code, dtype: int64"
      ]
     },
     "execution_count": 39,
     "metadata": {},
     "output_type": "execute_result"
    }
   ],
   "source": [
    "df[df['dispatch_date']=='2020-06-01']['text_general_code'].value_counts()"
   ]
  },
  {
   "cell_type": "code",
   "execution_count": 40,
   "id": "5c55171f",
   "metadata": {},
   "outputs": [
    {
     "data": {
      "text/plain": [
       "Burglary Non-Residential                   279\n",
       "Vandalism/Criminal Mischief                101\n",
       "Thefts                                      67\n",
       "Aggravated Assault No Firearm               67\n",
       "Other Assaults                              54\n",
       "Theft from Vehicle                          41\n",
       "Motor Vehicle Theft                         38\n",
       "Aggravated Assault Firearm                  31\n",
       "All Other Offenses                          31\n",
       "Fraud                                       26\n",
       "Weapon Violations                           18\n",
       "Robbery Firearm                             18\n",
       "Robbery No Firearm                          13\n",
       "Homicide - Criminal                         10\n",
       "Burglary Residential                         9\n",
       "Narcotic / Drug Law Violations               5\n",
       "Rape                                         4\n",
       "Arson                                        4\n",
       "Disorderly Conduct                           4\n",
       "Offenses Against Family and Children         2\n",
       "Other Sex Offenses (Not Commercialized)      2\n",
       "Name: text_general_code, dtype: int64"
      ]
     },
     "execution_count": 40,
     "metadata": {},
     "output_type": "execute_result"
    }
   ],
   "source": [
    "df[df['dispatch_date']=='2020-10-27']['text_general_code'].value_counts()"
   ]
  },
  {
   "cell_type": "markdown",
   "id": "7c656d1b",
   "metadata": {},
   "source": [
    "The two days with the highest amount of crime in are 2020-06-01 and 2020-10-27. After further research, we find that there is significance in these two dates in the city of Philadelphia.\n",
    "\n",
    "On May 25, 2020, George Floyd was murdered by a police officer, Derek Chauvin in Minneapolis, MN.  Protests in Philadelphia began the next day and lasted for multiple days with its peak on <b>June 1, 2020</b>. During a large demonstration, hundreds of protesters split off from a group and walked onto the interstate 676, at which point a SWAT team appeared and began firing rubber bullets and tear gas into the crowd.  Looting and vandalism continued in Center City and other parts of Philadelphia.\n",
    "\n",
    "On October 25, 2020, Walter Wallace Jr was shot and killed by Philadelphia police officers. After gaining attention from a cellphone video that was posted and went viral, protests and demonstrations took place across Philadelphia throughout late October.  On the night of October 26 into the morning of <b>October 27</b>, protesters marched through West Philadelphia and the police began to clash with demonstrators.  The violence and unrest spread to other parts of Philadelphia, with the police reporting that there were allegedly 1,000 people looting businesses in the Port Richmond neighborhood of Philadelphia.\n",
    "\n",
    "\n",
    "<i>Source:</i> \\\n",
    "https://en.wikipedia.org/wiki/George_Floyd_protests_in_Philadelphia\n",
    "https://en.wikipedia.org/wiki/Killing_of_Walter_Wallace"
   ]
  },
  {
   "cell_type": "code",
   "execution_count": 41,
   "id": "641ef31e",
   "metadata": {},
   "outputs": [
    {
     "data": {
      "text/plain": [
       "dispatch_date\n",
       "2016-01-23     69\n",
       "2019-11-22     73\n",
       "2016-01-24    149\n",
       "2013-12-25    166\n",
       "2015-12-25    179\n",
       "2016-12-25    180\n",
       "2014-02-13    182\n",
       "2018-12-25    182\n",
       "2012-10-29    186\n",
       "2020-12-25    187\n",
       "2017-12-25    189\n",
       "2018-01-04    190\n",
       "2012-12-25    196\n",
       "2017-03-14    199\n",
       "2018-03-07    200\n",
       "Name: dc_key, dtype: int64"
      ]
     },
     "execution_count": 41,
     "metadata": {},
     "output_type": "execute_result"
    }
   ],
   "source": [
    "date_count.nsmallest(15)"
   ]
  },
  {
   "cell_type": "markdown",
   "id": "dcdbd70b",
   "metadata": {},
   "source": [
    "The following are the dates with the lowest number of crimes:\n",
    "\n",
    "On <b>January 23, 2016</b> a powerful winter storm dumped over 20 inches of snow in many places, which most likely contributed to low number of crime that day.\n",
    "\n",
    "\n",
    "\n",
    "\n",
    "Source:\n",
    "https://www.inquirer.com/philly/news/local/20160124_Philadelphia_January_2016_blizzard_updates.html"
   ]
  },
  {
   "cell_type": "code",
   "execution_count": null,
   "id": "b3ee7543",
   "metadata": {},
   "outputs": [],
   "source": []
  }
 ],
 "metadata": {
  "kernelspec": {
   "display_name": "Python 3 (ipykernel)",
   "language": "python",
   "name": "python3"
  },
  "language_info": {
   "codemirror_mode": {
    "name": "ipython",
    "version": 3
   },
   "file_extension": ".py",
   "mimetype": "text/x-python",
   "name": "python",
   "nbconvert_exporter": "python",
   "pygments_lexer": "ipython3",
   "version": "3.8.12"
  }
 },
 "nbformat": 4,
 "nbformat_minor": 5
}
